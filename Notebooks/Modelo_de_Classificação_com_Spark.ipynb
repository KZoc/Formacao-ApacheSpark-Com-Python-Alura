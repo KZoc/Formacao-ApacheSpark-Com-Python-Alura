{
  "nbformat": 4,
  "nbformat_minor": 0,
  "metadata": {
    "colab": {
      "provenance": []
    },
    "kernelspec": {
      "name": "python3",
      "display_name": "Python 3"
    },
    "language_info": {
      "name": "python"
    }
  },
  "cells": [
    {
      "cell_type": "markdown",
      "source": [
        "# **1 - Preparando os Dados**"
      ],
      "metadata": {
        "id": "1iXElLsa7tNJ"
      }
    },
    {
      "cell_type": "markdown",
      "source": [
        "### **1.1 - Preparando o Ambiente**"
      ],
      "metadata": {
        "id": "wWRi_dIq70zl"
      }
    },
    {
      "cell_type": "code",
      "execution_count": 1,
      "metadata": {
        "colab": {
          "base_uri": "https://localhost:8080/"
        },
        "id": "qGnfJS1q7XBq",
        "outputId": "d07f3c75-9bc7-43ee-e214-37fe5957cd6d"
      },
      "outputs": [
        {
          "output_type": "stream",
          "name": "stdout",
          "text": [
            "Looking in indexes: https://pypi.org/simple, https://us-python.pkg.dev/colab-wheels/public/simple/\n",
            "Collecting pyspark\n",
            "  Downloading pyspark-3.3.2.tar.gz (281.4 MB)\n",
            "\u001b[2K     \u001b[90m━━━━━━━━━━━━━━━━━━━━━━━━━━━━━━━━━━━━━━━\u001b[0m \u001b[32m281.4/281.4 MB\u001b[0m \u001b[31m5.2 MB/s\u001b[0m eta \u001b[36m0:00:00\u001b[0m\n",
            "\u001b[?25h  Preparing metadata (setup.py) ... \u001b[?25l\u001b[?25hdone\n",
            "Collecting py4j==0.10.9.5\n",
            "  Downloading py4j-0.10.9.5-py2.py3-none-any.whl (199 kB)\n",
            "\u001b[2K     \u001b[90m━━━━━━━━━━━━━━━━━━━━━━━━━━━━━━━━━━━━━━\u001b[0m \u001b[32m199.7/199.7 kB\u001b[0m \u001b[31m23.3 MB/s\u001b[0m eta \u001b[36m0:00:00\u001b[0m\n",
            "\u001b[?25hBuilding wheels for collected packages: pyspark\n",
            "  Building wheel for pyspark (setup.py) ... \u001b[?25l\u001b[?25hdone\n",
            "  Created wheel for pyspark: filename=pyspark-3.3.2-py2.py3-none-any.whl size=281824028 sha256=5ee3aa82a5f1d2ff9f8360305b95231f6459ff3dfa4f43a05f4dfaaa556f46e2\n",
            "  Stored in directory: /root/.cache/pip/wheels/6c/e3/9b/0525ce8a69478916513509d43693511463c6468db0de237c86\n",
            "Successfully built pyspark\n",
            "Installing collected packages: py4j, pyspark\n",
            "  Attempting uninstall: py4j\n",
            "    Found existing installation: py4j 0.10.9.7\n",
            "    Uninstalling py4j-0.10.9.7:\n",
            "      Successfully uninstalled py4j-0.10.9.7\n",
            "Successfully installed py4j-0.10.9.5 pyspark-3.3.2\n"
          ]
        }
      ],
      "source": [
        "!pip install pyspark"
      ]
    },
    {
      "cell_type": "code",
      "source": [
        "from pyspark.sql import SparkSession\n",
        "\n",
        "spark = SparkSession.builder \\\n",
        "        .master('local[*]') \\\n",
        "        .appName('Classificação com Spark') \\\n",
        "        .getOrCreate()\n",
        "\n",
        "spark"
      ],
      "metadata": {
        "colab": {
          "base_uri": "https://localhost:8080/",
          "height": 219
        },
        "id": "CQ0zja2L8Sdd",
        "outputId": "6aac4ff6-0de4-4fbd-84d4-2091dd5fe7bf"
      },
      "execution_count": 2,
      "outputs": [
        {
          "output_type": "execute_result",
          "data": {
            "text/plain": [
              "<pyspark.sql.session.SparkSession at 0x7f09fcbe5df0>"
            ],
            "text/html": [
              "\n",
              "            <div>\n",
              "                <p><b>SparkSession - in-memory</b></p>\n",
              "                \n",
              "        <div>\n",
              "            <p><b>SparkContext</b></p>\n",
              "\n",
              "            <p><a href=\"http://b8c3412f1b27:4040\">Spark UI</a></p>\n",
              "\n",
              "            <dl>\n",
              "              <dt>Version</dt>\n",
              "                <dd><code>v3.3.2</code></dd>\n",
              "              <dt>Master</dt>\n",
              "                <dd><code>local[*]</code></dd>\n",
              "              <dt>AppName</dt>\n",
              "                <dd><code>Classificação com Spark</code></dd>\n",
              "            </dl>\n",
              "        </div>\n",
              "        \n",
              "            </div>\n",
              "        "
            ]
          },
          "metadata": {},
          "execution_count": 2
        }
      ]
    },
    {
      "cell_type": "markdown",
      "source": [
        "### **1.2 - Carregando os Dados**"
      ],
      "metadata": {
        "id": "bkI1SMbY-HfZ"
      }
    },
    {
      "cell_type": "code",
      "source": [
        "from google.colab import drive\n",
        "drive.mount('/content/drive')"
      ],
      "metadata": {
        "id": "a8eJtm759sX2",
        "colab": {
          "base_uri": "https://localhost:8080/"
        },
        "outputId": "8e2ad100-ffb5-47c3-8e2b-d96d9570f1c5"
      },
      "execution_count": 3,
      "outputs": [
        {
          "output_type": "stream",
          "name": "stdout",
          "text": [
            "Drive already mounted at /content/drive; to attempt to forcibly remount, call drive.mount(\"/content/drive\", force_remount=True).\n"
          ]
        }
      ]
    },
    {
      "cell_type": "code",
      "source": [
        "dados = spark.read.csv(\n",
        "    '/content/drive/MyDrive/Alura/Curso-Spark/Classificação com Spark/dados_clientes.csv',\n",
        "    sep = ',',\n",
        "    header=True,\n",
        "    inferSchema=True\n",
        ")"
      ],
      "metadata": {
        "id": "6-NVXj8-_ja8"
      },
      "execution_count": 4,
      "outputs": []
    },
    {
      "cell_type": "code",
      "source": [
        "dados.show()"
      ],
      "metadata": {
        "colab": {
          "base_uri": "https://localhost:8080/"
        },
        "id": "-bhAEFeS_wA4",
        "outputId": "ab459c9c-80fb-4cd9-a6dd-6af0cfbe92b6"
      },
      "execution_count": 5,
      "outputs": [
        {
          "output_type": "stream",
          "name": "stdout",
          "text": [
            "+---+-----+----------+-------+-----------+---------------+------------+------------------------+-----------+------------------+------------------+------------------+------------------+------------------+------------------+------------+------------+----------------+-------------+\n",
            "| id|Churn|Mais65anos|Conjuge|Dependentes|MesesDeContrato|TelefoneFixo|MaisDeUmaLinhaTelefonica|   Internet|   SegurancaOnline|      BackupOnline| SeguroDispositivo|    SuporteTecnico|           TVaCabo|   StreamingFilmes|TipoContrato|ContaCorreio| MetodoPagamento|MesesCobrados|\n",
            "+---+-----+----------+-------+-----------+---------------+------------+------------------------+-----------+------------------+------------------+------------------+------------------+------------------+------------------+------------+------------+----------------+-------------+\n",
            "|  0|  Nao|         0|    Sim|        Nao|              1|         Nao|    SemServicoTelefonico|        DSL|               Nao|               Sim|               Nao|               Nao|               Nao|               Nao| Mensalmente|         Sim|BoletoEletronico|        29.85|\n",
            "|  1|  Nao|         0|    Nao|        Nao|             34|         Sim|                     Nao|        DSL|               Sim|               Nao|               Sim|               Nao|               Nao|               Nao|       UmAno|         Nao|          Boleto|        56.95|\n",
            "|  2|  Sim|         0|    Nao|        Nao|              2|         Sim|                     Nao|        DSL|               Sim|               Sim|               Nao|               Nao|               Nao|               Nao| Mensalmente|         Sim|          Boleto|        53.85|\n",
            "|  3|  Nao|         0|    Nao|        Nao|             45|         Nao|    SemServicoTelefonico|        DSL|               Sim|               Nao|               Sim|               Sim|               Nao|               Nao|       UmAno|         Nao|   DebitoEmConta|         42.3|\n",
            "|  4|  Sim|         0|    Nao|        Nao|              2|         Sim|                     Nao|FibraOptica|               Nao|               Nao|               Nao|               Nao|               Nao|               Nao| Mensalmente|         Sim|BoletoEletronico|         70.7|\n",
            "|  5|  Sim|         0|    Nao|        Nao|              8|         Sim|                     Sim|FibraOptica|               Nao|               Nao|               Sim|               Nao|               Sim|               Sim| Mensalmente|         Sim|BoletoEletronico|        99.65|\n",
            "|  6|  Nao|         0|    Nao|        Sim|             22|         Sim|                     Sim|FibraOptica|               Nao|               Sim|               Nao|               Nao|               Sim|               Nao| Mensalmente|         Sim|   CartaoCredito|         89.1|\n",
            "|  7|  Nao|         0|    Nao|        Nao|             10|         Nao|    SemServicoTelefonico|        DSL|               Sim|               Nao|               Nao|               Nao|               Nao|               Nao| Mensalmente|         Nao|          Boleto|        29.75|\n",
            "|  8|  Sim|         0|    Sim|        Nao|             28|         Sim|                     Sim|FibraOptica|               Nao|               Nao|               Sim|               Sim|               Sim|               Sim| Mensalmente|         Sim|BoletoEletronico|        104.8|\n",
            "|  9|  Nao|         0|    Nao|        Sim|             62|         Sim|                     Nao|        DSL|               Sim|               Sim|               Nao|               Nao|               Nao|               Nao|       UmAno|         Nao|   DebitoEmConta|        56.15|\n",
            "| 10|  Nao|         0|    Sim|        Sim|             13|         Sim|                     Nao|        DSL|               Sim|               Nao|               Nao|               Nao|               Nao|               Nao| Mensalmente|         Sim|          Boleto|        49.95|\n",
            "| 11|  Nao|         0|    Nao|        Nao|             16|         Sim|                     Nao|        Nao|SemServicoInternet|SemServicoInternet|SemServicoInternet|SemServicoInternet|SemServicoInternet|SemServicoInternet|    DoisAnos|         Nao|   CartaoCredito|        18.95|\n",
            "| 12|  Nao|         0|    Sim|        Nao|             58|         Sim|                     Sim|FibraOptica|               Nao|               Nao|               Sim|               Nao|               Sim|               Sim|       UmAno|         Nao|   CartaoCredito|       100.35|\n",
            "| 13|  Sim|         0|    Nao|        Nao|             49|         Sim|                     Sim|FibraOptica|               Nao|               Sim|               Sim|               Nao|               Sim|               Sim| Mensalmente|         Sim|   DebitoEmConta|        103.7|\n",
            "| 14|  Nao|         0|    Nao|        Nao|             25|         Sim|                     Nao|FibraOptica|               Sim|               Nao|               Sim|               Sim|               Sim|               Sim| Mensalmente|         Sim|BoletoEletronico|        105.5|\n",
            "| 15|  Nao|         0|    Sim|        Sim|             69|         Sim|                     Sim|FibraOptica|               Sim|               Sim|               Sim|               Sim|               Sim|               Sim|    DoisAnos|         Nao|   CartaoCredito|       113.25|\n",
            "| 16|  Nao|         0|    Nao|        Nao|             52|         Sim|                     Nao|        Nao|SemServicoInternet|SemServicoInternet|SemServicoInternet|SemServicoInternet|SemServicoInternet|SemServicoInternet|       UmAno|         Nao|          Boleto|        20.65|\n",
            "| 17|  Nao|         0|    Nao|        Sim|             71|         Sim|                     Sim|FibraOptica|               Sim|               Nao|               Sim|               Nao|               Sim|               Sim|    DoisAnos|         Nao|   DebitoEmConta|        106.7|\n",
            "| 18|  Sim|         0|    Sim|        Sim|             10|         Sim|                     Nao|        DSL|               Nao|               Nao|               Sim|               Sim|               Nao|               Nao| Mensalmente|         Nao|   CartaoCredito|         55.2|\n",
            "| 19|  Nao|         0|    Nao|        Nao|             21|         Sim|                     Nao|FibraOptica|               Nao|               Sim|               Sim|               Nao|               Nao|               Sim| Mensalmente|         Sim|BoletoEletronico|        90.05|\n",
            "+---+-----+----------+-------+-----------+---------------+------------+------------------------+-----------+------------------+------------------+------------------+------------------+------------------+------------------+------------+------------+----------------+-------------+\n",
            "only showing top 20 rows\n",
            "\n"
          ]
        }
      ]
    },
    {
      "cell_type": "code",
      "source": [
        "dados.count()"
      ],
      "metadata": {
        "colab": {
          "base_uri": "https://localhost:8080/"
        },
        "id": "Dc0OcJ6JAScP",
        "outputId": "012c74d9-a0ed-46e8-edda-12eebadeb897"
      },
      "execution_count": 6,
      "outputs": [
        {
          "output_type": "execute_result",
          "data": {
            "text/plain": [
              "10348"
            ]
          },
          "metadata": {},
          "execution_count": 6
        }
      ]
    },
    {
      "cell_type": "code",
      "source": [
        "dados.groupBy('Churn').count().show()"
      ],
      "metadata": {
        "colab": {
          "base_uri": "https://localhost:8080/"
        },
        "id": "mB0AzYUMBNni",
        "outputId": "f5085805-6a49-4c47-b94e-cba49dc64c55"
      },
      "execution_count": 7,
      "outputs": [
        {
          "output_type": "stream",
          "name": "stdout",
          "text": [
            "+-----+-----+\n",
            "|Churn|count|\n",
            "+-----+-----+\n",
            "|  Sim| 5174|\n",
            "|  Nao| 5174|\n",
            "+-----+-----+\n",
            "\n"
          ]
        }
      ]
    },
    {
      "cell_type": "code",
      "source": [
        "dados.printSchema()"
      ],
      "metadata": {
        "colab": {
          "base_uri": "https://localhost:8080/"
        },
        "id": "kwafrMDWBViD",
        "outputId": "b365e108-de01-43f4-9db0-1c5742f96103"
      },
      "execution_count": 8,
      "outputs": [
        {
          "output_type": "stream",
          "name": "stdout",
          "text": [
            "root\n",
            " |-- id: integer (nullable = true)\n",
            " |-- Churn: string (nullable = true)\n",
            " |-- Mais65anos: integer (nullable = true)\n",
            " |-- Conjuge: string (nullable = true)\n",
            " |-- Dependentes: string (nullable = true)\n",
            " |-- MesesDeContrato: integer (nullable = true)\n",
            " |-- TelefoneFixo: string (nullable = true)\n",
            " |-- MaisDeUmaLinhaTelefonica: string (nullable = true)\n",
            " |-- Internet: string (nullable = true)\n",
            " |-- SegurancaOnline: string (nullable = true)\n",
            " |-- BackupOnline: string (nullable = true)\n",
            " |-- SeguroDispositivo: string (nullable = true)\n",
            " |-- SuporteTecnico: string (nullable = true)\n",
            " |-- TVaCabo: string (nullable = true)\n",
            " |-- StreamingFilmes: string (nullable = true)\n",
            " |-- TipoContrato: string (nullable = true)\n",
            " |-- ContaCorreio: string (nullable = true)\n",
            " |-- MetodoPagamento: string (nullable = true)\n",
            " |-- MesesCobrados: double (nullable = true)\n",
            "\n"
          ]
        }
      ]
    },
    {
      "cell_type": "markdown",
      "source": [
        "### **1.2 - Tratando os dados**"
      ],
      "metadata": {
        "id": "ehNVI2A2DicA"
      }
    },
    {
      "cell_type": "code",
      "source": [
        "colunasBinarias = [\n",
        "    'Churn',\n",
        "    'Conjuge',\n",
        "    'Dependentes',\n",
        "    'TelefoneFixo',\n",
        "    'MaisDeUmaLinhaTelefonica',\n",
        "    'SegurancaOnline',\n",
        "    'BackupOnline',\n",
        "    'SeguroDispositivo',\n",
        "    'SuporteTecnico',\n",
        "    'TVaCabo',\n",
        "    'StreamingFilmes',\n",
        "    'ContaCorreio'\n",
        "]"
      ],
      "metadata": {
        "id": "3oZ1uVfvBbnU"
      },
      "execution_count": 9,
      "outputs": []
    },
    {
      "cell_type": "code",
      "source": [
        "from pyspark.sql import functions as f"
      ],
      "metadata": {
        "id": "G1t2rlsX2iCx"
      },
      "execution_count": 10,
      "outputs": []
    },
    {
      "cell_type": "code",
      "source": [
        "todasColunas = [f.when(f.col(c)=='Sim', 1).otherwise(0).alias(c) for c in colunasBinarias]"
      ],
      "metadata": {
        "id": "Zs25no0IeUp2"
      },
      "execution_count": 11,
      "outputs": []
    },
    {
      "cell_type": "code",
      "source": [
        "todasColunas"
      ],
      "metadata": {
        "colab": {
          "base_uri": "https://localhost:8080/"
        },
        "id": "Zhh-_OqYe0nT",
        "outputId": "ef1a3cb5-2484-4e3e-85b5-15cbb7bf9b4a"
      },
      "execution_count": 12,
      "outputs": [
        {
          "output_type": "execute_result",
          "data": {
            "text/plain": [
              "[Column<'CASE WHEN (Churn = Sim) THEN 1 ELSE 0 END AS Churn'>,\n",
              " Column<'CASE WHEN (Conjuge = Sim) THEN 1 ELSE 0 END AS Conjuge'>,\n",
              " Column<'CASE WHEN (Dependentes = Sim) THEN 1 ELSE 0 END AS Dependentes'>,\n",
              " Column<'CASE WHEN (TelefoneFixo = Sim) THEN 1 ELSE 0 END AS TelefoneFixo'>,\n",
              " Column<'CASE WHEN (MaisDeUmaLinhaTelefonica = Sim) THEN 1 ELSE 0 END AS MaisDeUmaLinhaTelefonica'>,\n",
              " Column<'CASE WHEN (SegurancaOnline = Sim) THEN 1 ELSE 0 END AS SegurancaOnline'>,\n",
              " Column<'CASE WHEN (BackupOnline = Sim) THEN 1 ELSE 0 END AS BackupOnline'>,\n",
              " Column<'CASE WHEN (SeguroDispositivo = Sim) THEN 1 ELSE 0 END AS SeguroDispositivo'>,\n",
              " Column<'CASE WHEN (SuporteTecnico = Sim) THEN 1 ELSE 0 END AS SuporteTecnico'>,\n",
              " Column<'CASE WHEN (TVaCabo = Sim) THEN 1 ELSE 0 END AS TVaCabo'>,\n",
              " Column<'CASE WHEN (StreamingFilmes = Sim) THEN 1 ELSE 0 END AS StreamingFilmes'>,\n",
              " Column<'CASE WHEN (ContaCorreio = Sim) THEN 1 ELSE 0 END AS ContaCorreio'>]"
            ]
          },
          "metadata": {},
          "execution_count": 12
        }
      ]
    },
    {
      "cell_type": "code",
      "source": [
        "for coluna in reversed(dados.columns):\n",
        "  if coluna not in colunasBinarias:\n",
        "    todasColunas.insert(0, coluna)\n",
        "    \n",
        "todasColunas"
      ],
      "metadata": {
        "colab": {
          "base_uri": "https://localhost:8080/"
        },
        "id": "CXhi9fXCe3dK",
        "outputId": "419eda80-0763-4cb0-a5a8-985fa6ba3682"
      },
      "execution_count": 13,
      "outputs": [
        {
          "output_type": "execute_result",
          "data": {
            "text/plain": [
              "['id',\n",
              " 'Mais65anos',\n",
              " 'MesesDeContrato',\n",
              " 'Internet',\n",
              " 'TipoContrato',\n",
              " 'MetodoPagamento',\n",
              " 'MesesCobrados',\n",
              " Column<'CASE WHEN (Churn = Sim) THEN 1 ELSE 0 END AS Churn'>,\n",
              " Column<'CASE WHEN (Conjuge = Sim) THEN 1 ELSE 0 END AS Conjuge'>,\n",
              " Column<'CASE WHEN (Dependentes = Sim) THEN 1 ELSE 0 END AS Dependentes'>,\n",
              " Column<'CASE WHEN (TelefoneFixo = Sim) THEN 1 ELSE 0 END AS TelefoneFixo'>,\n",
              " Column<'CASE WHEN (MaisDeUmaLinhaTelefonica = Sim) THEN 1 ELSE 0 END AS MaisDeUmaLinhaTelefonica'>,\n",
              " Column<'CASE WHEN (SegurancaOnline = Sim) THEN 1 ELSE 0 END AS SegurancaOnline'>,\n",
              " Column<'CASE WHEN (BackupOnline = Sim) THEN 1 ELSE 0 END AS BackupOnline'>,\n",
              " Column<'CASE WHEN (SeguroDispositivo = Sim) THEN 1 ELSE 0 END AS SeguroDispositivo'>,\n",
              " Column<'CASE WHEN (SuporteTecnico = Sim) THEN 1 ELSE 0 END AS SuporteTecnico'>,\n",
              " Column<'CASE WHEN (TVaCabo = Sim) THEN 1 ELSE 0 END AS TVaCabo'>,\n",
              " Column<'CASE WHEN (StreamingFilmes = Sim) THEN 1 ELSE 0 END AS StreamingFilmes'>,\n",
              " Column<'CASE WHEN (ContaCorreio = Sim) THEN 1 ELSE 0 END AS ContaCorreio'>]"
            ]
          },
          "metadata": {},
          "execution_count": 13
        }
      ]
    },
    {
      "cell_type": "code",
      "source": [
        "dataset = dados.select(todasColunas)"
      ],
      "metadata": {
        "id": "KEKIWSBvf6l4"
      },
      "execution_count": 14,
      "outputs": []
    },
    {
      "cell_type": "code",
      "source": [
        "dataset.show()"
      ],
      "metadata": {
        "colab": {
          "base_uri": "https://localhost:8080/"
        },
        "id": "ciCM-7iPgY6s",
        "outputId": "4317ee54-95f1-4eeb-f200-070e26c9689a"
      },
      "execution_count": 15,
      "outputs": [
        {
          "output_type": "stream",
          "name": "stdout",
          "text": [
            "+---+----------+---------------+-----------+------------+----------------+-------------+-----+-------+-----------+------------+------------------------+---------------+------------+-----------------+--------------+-------+---------------+------------+\n",
            "| id|Mais65anos|MesesDeContrato|   Internet|TipoContrato| MetodoPagamento|MesesCobrados|Churn|Conjuge|Dependentes|TelefoneFixo|MaisDeUmaLinhaTelefonica|SegurancaOnline|BackupOnline|SeguroDispositivo|SuporteTecnico|TVaCabo|StreamingFilmes|ContaCorreio|\n",
            "+---+----------+---------------+-----------+------------+----------------+-------------+-----+-------+-----------+------------+------------------------+---------------+------------+-----------------+--------------+-------+---------------+------------+\n",
            "|  0|         0|              1|        DSL| Mensalmente|BoletoEletronico|        29.85|    0|      1|          0|           0|                       0|              0|           1|                0|             0|      0|              0|           1|\n",
            "|  1|         0|             34|        DSL|       UmAno|          Boleto|        56.95|    0|      0|          0|           1|                       0|              1|           0|                1|             0|      0|              0|           0|\n",
            "|  2|         0|              2|        DSL| Mensalmente|          Boleto|        53.85|    1|      0|          0|           1|                       0|              1|           1|                0|             0|      0|              0|           1|\n",
            "|  3|         0|             45|        DSL|       UmAno|   DebitoEmConta|         42.3|    0|      0|          0|           0|                       0|              1|           0|                1|             1|      0|              0|           0|\n",
            "|  4|         0|              2|FibraOptica| Mensalmente|BoletoEletronico|         70.7|    1|      0|          0|           1|                       0|              0|           0|                0|             0|      0|              0|           1|\n",
            "|  5|         0|              8|FibraOptica| Mensalmente|BoletoEletronico|        99.65|    1|      0|          0|           1|                       1|              0|           0|                1|             0|      1|              1|           1|\n",
            "|  6|         0|             22|FibraOptica| Mensalmente|   CartaoCredito|         89.1|    0|      0|          1|           1|                       1|              0|           1|                0|             0|      1|              0|           1|\n",
            "|  7|         0|             10|        DSL| Mensalmente|          Boleto|        29.75|    0|      0|          0|           0|                       0|              1|           0|                0|             0|      0|              0|           0|\n",
            "|  8|         0|             28|FibraOptica| Mensalmente|BoletoEletronico|        104.8|    1|      1|          0|           1|                       1|              0|           0|                1|             1|      1|              1|           1|\n",
            "|  9|         0|             62|        DSL|       UmAno|   DebitoEmConta|        56.15|    0|      0|          1|           1|                       0|              1|           1|                0|             0|      0|              0|           0|\n",
            "| 10|         0|             13|        DSL| Mensalmente|          Boleto|        49.95|    0|      1|          1|           1|                       0|              1|           0|                0|             0|      0|              0|           1|\n",
            "| 11|         0|             16|        Nao|    DoisAnos|   CartaoCredito|        18.95|    0|      0|          0|           1|                       0|              0|           0|                0|             0|      0|              0|           0|\n",
            "| 12|         0|             58|FibraOptica|       UmAno|   CartaoCredito|       100.35|    0|      1|          0|           1|                       1|              0|           0|                1|             0|      1|              1|           0|\n",
            "| 13|         0|             49|FibraOptica| Mensalmente|   DebitoEmConta|        103.7|    1|      0|          0|           1|                       1|              0|           1|                1|             0|      1|              1|           1|\n",
            "| 14|         0|             25|FibraOptica| Mensalmente|BoletoEletronico|        105.5|    0|      0|          0|           1|                       0|              1|           0|                1|             1|      1|              1|           1|\n",
            "| 15|         0|             69|FibraOptica|    DoisAnos|   CartaoCredito|       113.25|    0|      1|          1|           1|                       1|              1|           1|                1|             1|      1|              1|           0|\n",
            "| 16|         0|             52|        Nao|       UmAno|          Boleto|        20.65|    0|      0|          0|           1|                       0|              0|           0|                0|             0|      0|              0|           0|\n",
            "| 17|         0|             71|FibraOptica|    DoisAnos|   DebitoEmConta|        106.7|    0|      0|          1|           1|                       1|              1|           0|                1|             0|      1|              1|           0|\n",
            "| 18|         0|             10|        DSL| Mensalmente|   CartaoCredito|         55.2|    1|      1|          1|           1|                       0|              0|           0|                1|             1|      0|              0|           0|\n",
            "| 19|         0|             21|FibraOptica| Mensalmente|BoletoEletronico|        90.05|    0|      0|          0|           1|                       0|              0|           1|                1|             0|      0|              1|           1|\n",
            "+---+----------+---------------+-----------+------------+----------------+-------------+-----+-------+-----------+------------+------------------------+---------------+------------+-----------------+--------------+-------+---------------+------------+\n",
            "only showing top 20 rows\n",
            "\n"
          ]
        }
      ]
    },
    {
      "cell_type": "code",
      "source": [
        "dataset.printSchema()"
      ],
      "metadata": {
        "colab": {
          "base_uri": "https://localhost:8080/"
        },
        "id": "sNUctjp6gemu",
        "outputId": "736e2847-aab0-4bee-834f-77601743cb79"
      },
      "execution_count": 16,
      "outputs": [
        {
          "output_type": "stream",
          "name": "stdout",
          "text": [
            "root\n",
            " |-- id: integer (nullable = true)\n",
            " |-- Mais65anos: integer (nullable = true)\n",
            " |-- MesesDeContrato: integer (nullable = true)\n",
            " |-- Internet: string (nullable = true)\n",
            " |-- TipoContrato: string (nullable = true)\n",
            " |-- MetodoPagamento: string (nullable = true)\n",
            " |-- MesesCobrados: double (nullable = true)\n",
            " |-- Churn: integer (nullable = false)\n",
            " |-- Conjuge: integer (nullable = false)\n",
            " |-- Dependentes: integer (nullable = false)\n",
            " |-- TelefoneFixo: integer (nullable = false)\n",
            " |-- MaisDeUmaLinhaTelefonica: integer (nullable = false)\n",
            " |-- SegurancaOnline: integer (nullable = false)\n",
            " |-- BackupOnline: integer (nullable = false)\n",
            " |-- SeguroDispositivo: integer (nullable = false)\n",
            " |-- SuporteTecnico: integer (nullable = false)\n",
            " |-- TVaCabo: integer (nullable = false)\n",
            " |-- StreamingFilmes: integer (nullable = false)\n",
            " |-- ContaCorreio: integer (nullable = false)\n",
            "\n"
          ]
        }
      ]
    },
    {
      "cell_type": "markdown",
      "source": [
        "Podemos observar que algumas colunas continuam com o tipo string - Internet, TipoContrato e MetodoPagamento"
      ],
      "metadata": {
        "id": "ikKNaMdMguhz"
      }
    },
    {
      "cell_type": "markdown",
      "source": [
        "## 1.3 - Criando Dummies"
      ],
      "metadata": {
        "id": "34g-4sM_j-OL"
      }
    },
    {
      "cell_type": "code",
      "source": [
        "dados.select(['Internet', 'TipoContrato', 'MetodoPagamento']).show()"
      ],
      "metadata": {
        "id": "haaMJdb6j40d",
        "colab": {
          "base_uri": "https://localhost:8080/"
        },
        "outputId": "68430bc9-6db7-4050-e54f-f466b99ead73"
      },
      "execution_count": 17,
      "outputs": [
        {
          "output_type": "stream",
          "name": "stdout",
          "text": [
            "+-----------+------------+----------------+\n",
            "|   Internet|TipoContrato| MetodoPagamento|\n",
            "+-----------+------------+----------------+\n",
            "|        DSL| Mensalmente|BoletoEletronico|\n",
            "|        DSL|       UmAno|          Boleto|\n",
            "|        DSL| Mensalmente|          Boleto|\n",
            "|        DSL|       UmAno|   DebitoEmConta|\n",
            "|FibraOptica| Mensalmente|BoletoEletronico|\n",
            "|FibraOptica| Mensalmente|BoletoEletronico|\n",
            "|FibraOptica| Mensalmente|   CartaoCredito|\n",
            "|        DSL| Mensalmente|          Boleto|\n",
            "|FibraOptica| Mensalmente|BoletoEletronico|\n",
            "|        DSL|       UmAno|   DebitoEmConta|\n",
            "|        DSL| Mensalmente|          Boleto|\n",
            "|        Nao|    DoisAnos|   CartaoCredito|\n",
            "|FibraOptica|       UmAno|   CartaoCredito|\n",
            "|FibraOptica| Mensalmente|   DebitoEmConta|\n",
            "|FibraOptica| Mensalmente|BoletoEletronico|\n",
            "|FibraOptica|    DoisAnos|   CartaoCredito|\n",
            "|        Nao|       UmAno|          Boleto|\n",
            "|FibraOptica|    DoisAnos|   DebitoEmConta|\n",
            "|        DSL| Mensalmente|   CartaoCredito|\n",
            "|FibraOptica| Mensalmente|BoletoEletronico|\n",
            "+-----------+------------+----------------+\n",
            "only showing top 20 rows\n",
            "\n"
          ]
        }
      ]
    },
    {
      "cell_type": "code",
      "source": [
        "dataset.groupBy('id').pivot('Internet').agg(f.lit(1)).na.fill(0).show()"
      ],
      "metadata": {
        "id": "-_g6SxNEgkPv",
        "colab": {
          "base_uri": "https://localhost:8080/"
        },
        "outputId": "5fe5401f-ce9f-41cd-c73f-431508099404"
      },
      "execution_count": 18,
      "outputs": [
        {
          "output_type": "stream",
          "name": "stdout",
          "text": [
            "+----+---+-----------+---+\n",
            "|  id|DSL|FibraOptica|Nao|\n",
            "+----+---+-----------+---+\n",
            "|7982|  1|          0|  0|\n",
            "|9465|  0|          1|  0|\n",
            "|2122|  1|          0|  0|\n",
            "|3997|  1|          0|  0|\n",
            "|6654|  0|          1|  0|\n",
            "|7880|  0|          1|  0|\n",
            "|4519|  0|          1|  0|\n",
            "|6466|  0|          1|  0|\n",
            "| 496|  1|          0|  0|\n",
            "|7833|  0|          1|  0|\n",
            "|1591|  0|          0|  1|\n",
            "|2866|  0|          1|  0|\n",
            "|8592|  0|          1|  0|\n",
            "|1829|  0|          1|  0|\n",
            "| 463|  0|          1|  0|\n",
            "|4900|  0|          1|  0|\n",
            "|4818|  0|          1|  0|\n",
            "|7554|  1|          0|  0|\n",
            "|1342|  0|          0|  1|\n",
            "|5300|  0|          1|  0|\n",
            "+----+---+-----------+---+\n",
            "only showing top 20 rows\n",
            "\n"
          ]
        }
      ]
    },
    {
      "cell_type": "code",
      "source": [
        "Internet = dataset.groupBy('id').pivot('Internet').agg(f.lit(1)).na.fill(0)\n",
        "TipoContrato = dataset.groupBy('id').pivot('TipoContrato').agg(f.lit(1)).na.fill(0)\n",
        "MetodoPagamento = dataset.groupBy('id').pivot('MetodoPagamento').agg(f.lit(1)).na.fill(0)"
      ],
      "metadata": {
        "id": "nIfTAW7PKN5q"
      },
      "execution_count": 19,
      "outputs": []
    },
    {
      "cell_type": "code",
      "source": [
        "dataset\\\n",
        "    .join(Internet, 'id', how='inner')\\\n",
        "    .join(TipoContrato, 'id', how='inner')\\\n",
        "    .join(MetodoPagamento, 'id', how='inner')\\\n",
        "    .select('*',\n",
        "        f.col('DSL').alias('Internet_DSL'), \n",
        "        f.col('FibraOptica').alias('Internet_FibraOptica'), \n",
        "        f.col('Nao').alias('Internet_Nao'), \n",
        "        f.col('Mensalmente').alias('TipoContrato_Mensalmente'), \n",
        "        f.col('UmAno').alias('TipoContrato_UmAno'), \n",
        "        f.col('DoisAnos').alias('TipoContrato_DoisAnos'), \n",
        "        f.col('DebitoEmConta').alias('MetodoPagamento_DebitoEmConta'), \n",
        "        f.col('CartaoCredito').alias('MetodoPagamento_CartaoCredito'), \n",
        "        f.col('BoletoEletronico').alias('MetodoPagamento_BoletoEletronico'), \n",
        "        f.col('Boleto').alias('MetodoPagamento_Boleto')        \n",
        "    )\\\n",
        "    .drop(\n",
        "        'Internet', 'TipoContrato', 'MetodoPagamento', 'DSL', \n",
        "        'FibraOptica', 'Nao', 'Mensalmente', 'UmAno', 'DoisAnos', \n",
        "        'DebitoEmConta', 'CartaoCredito', 'BoletoEletronico', 'Boleto'\n",
        "    ).show()"
      ],
      "metadata": {
        "colab": {
          "base_uri": "https://localhost:8080/"
        },
        "id": "6kvbE85mMRPA",
        "outputId": "efc6e619-2e65-44e3-efef-69af3fca9777"
      },
      "execution_count": 20,
      "outputs": [
        {
          "output_type": "stream",
          "name": "stdout",
          "text": [
            "+----+----------+---------------+-----------------+-----+-------+-----------+------------+------------------------+---------------+------------+-----------------+--------------+-------+---------------+------------+------------+--------------------+------------+------------------------+------------------+---------------------+-----------------------------+-----------------------------+--------------------------------+----------------------+\n",
            "|  id|Mais65anos|MesesDeContrato|    MesesCobrados|Churn|Conjuge|Dependentes|TelefoneFixo|MaisDeUmaLinhaTelefonica|SegurancaOnline|BackupOnline|SeguroDispositivo|SuporteTecnico|TVaCabo|StreamingFilmes|ContaCorreio|Internet_DSL|Internet_FibraOptica|Internet_Nao|TipoContrato_Mensalmente|TipoContrato_UmAno|TipoContrato_DoisAnos|MetodoPagamento_DebitoEmConta|MetodoPagamento_CartaoCredito|MetodoPagamento_BoletoEletronico|MetodoPagamento_Boleto|\n",
            "+----+----------+---------------+-----------------+-----+-------+-----------+------------+------------------------+---------------+------------+-----------------+--------------+-------+---------------+------------+------------+--------------------+------------+------------------------+------------------+---------------------+-----------------------------+-----------------------------+--------------------------------+----------------------+\n",
            "|7982|         0|              1|45.30540797610398|    1|      0|          0|           0|                       0|              0|           0|                0|             0|      1|              1|           1|           1|                   0|           0|                       1|                 0|                    0|                            0|                            0|                               1|                     0|\n",
            "|9465|         0|             60|103.6142230120257|    1|      1|          0|           1|                       1|              0|           1|                1|             0|      1|              1|           1|           0|                   1|           0|                       1|                 0|                    0|                            0|                            0|                               1|                     0|\n",
            "|2122|         0|             12|            75.85|    0|      0|          0|           1|                       1|              0|           0|                0|             1|      1|              1|           1|           1|                   0|           0|                       0|                 1|                    0|                            0|                            0|                               0|                     1|\n",
            "|3997|         0|             69|            61.45|    0|      1|          0|           1|                       0|              0|           1|                0|             0|      0|              1|           1|           1|                   0|           0|                       0|                 0|                    1|                            0|                            1|                               0|                     0|\n",
            "|6654|         0|              7|             86.5|    1|      1|          0|           1|                       1|              0|           0|                0|             0|      1|              0|           1|           0|                   1|           0|                       1|                 0|                    0|                            0|                            0|                               1|                     0|\n",
            "|7880|         0|             14|85.03742670311915|    1|      0|          0|           1|                       1|              0|           0|                0|             0|      0|              1|           1|           0|                   1|           0|                       1|                 0|                    0|                            0|                            0|                               1|                     0|\n",
            "|4519|         0|             57|            109.4|    0|      1|          0|           1|                       1|              0|           1|                1|             1|      1|              1|           1|           0|                   1|           0|                       0|                 1|                    0|                            1|                            0|                               0|                     0|\n",
            "|6466|         0|             18|            74.15|    0|      0|          0|           1|                       1|              0|           0|                0|             0|      0|              0|           0|           0|                   1|           0|                       1|                 0|                    0|                            0|                            0|                               0|                     1|\n",
            "| 496|         0|             28|             60.9|    0|      1|          0|           1|                       0|              1|           1|                0|             1|      0|              0|           0|           1|                   0|           0|                       1|                 0|                    0|                            0|                            0|                               0|                     1|\n",
            "|7833|         0|             46| 80.8824189403559|    1|      1|          0|           1|                       0|              0|           0|                0|             0|      0|              1|           1|           0|                   1|           0|                       1|                 0|                    0|                            0|                            0|                               1|                     0|\n",
            "|1591|         0|             17|             21.1|    0|      0|          0|           1|                       0|              0|           0|                0|             0|      0|              0|           0|           0|                   0|           1|                       1|                 0|                    0|                            0|                            1|                               0|                     0|\n",
            "|2866|         0|             12|             84.6|    0|      0|          0|           1|                       0|              0|           1|                0|             0|      0|              1|           1|           0|                   1|           0|                       1|                 0|                    0|                            0|                            0|                               1|                     0|\n",
            "|8592|         0|              5|82.71735660557214|    1|      1|          0|           1|                       1|              0|           0|                0|             0|      1|              0|           1|           0|                   1|           0|                       1|                 0|                    0|                            0|                            0|                               1|                     0|\n",
            "|1829|         0|              8|            74.85|    0|      0|          0|           1|                       1|              0|           0|                0|             0|      0|              0|           1|           0|                   1|           0|                       1|                 0|                    0|                            0|                            0|                               1|                     0|\n",
            "| 463|         0|              7|             99.8|    1|      0|          0|           1|                       1|              0|           1|                0|             0|      1|              1|           1|           0|                   1|           0|                       1|                 0|                    0|                            0|                            0|                               1|                     0|\n",
            "|4900|         1|             37|             85.7|    1|      1|          0|           1|                       1|              0|           0|                0|             0|      1|              0|           1|           0|                   1|           0|                       1|                 0|                    0|                            0|                            0|                               1|                     0|\n",
            "|4818|         1|             64|             80.3|    0|      1|          0|           1|                       0|              1|           0|                1|             0|      0|              0|           0|           0|                   1|           0|                       0|                 1|                    0|                            0|                            1|                               0|                     0|\n",
            "|7554|         0|              1|50.74303124820026|    1|      0|          0|           1|                       0|              0|           1|                0|             0|      0|              0|           0|           1|                   0|           0|                       1|                 0|                    0|                            0|                            0|                               1|                     0|\n",
            "|1342|         0|              8|             20.0|    0|      0|          0|           1|                       0|              0|           0|                0|             0|      0|              0|           0|           0|                   0|           1|                       0|                 0|                    1|                            0|                            0|                               0|                     1|\n",
            "|5300|         0|              1|            80.05|    1|      1|          1|           1|                       0|              0|           0|                0|             0|      1|              0|           1|           0|                   1|           0|                       1|                 0|                    0|                            0|                            0|                               0|                     1|\n",
            "+----+----------+---------------+-----------------+-----+-------+-----------+------------+------------------------+---------------+------------+-----------------+--------------+-------+---------------+------------+------------+--------------------+------------+------------------------+------------------+---------------------+-----------------------------+-----------------------------+--------------------------------+----------------------+\n",
            "only showing top 20 rows\n",
            "\n"
          ]
        }
      ]
    },
    {
      "cell_type": "code",
      "source": [
        "dataset = dataset\\\n",
        "    .join(Internet, 'id', how='inner')\\\n",
        "    .join(TipoContrato, 'id', how='inner')\\\n",
        "    .join(MetodoPagamento, 'id', how='inner')\\\n",
        "    .select('*',\n",
        "        f.col('DSL').alias('Internet_DSL'), \n",
        "        f.col('FibraOptica').alias('Internet_FibraOptica'), \n",
        "        f.col('Nao').alias('Internet_Nao'), \n",
        "        f.col('Mensalmente').alias('TipoContrato_Mensalmente'), \n",
        "        f.col('UmAno').alias('TipoContrato_UmAno'), \n",
        "        f.col('DoisAnos').alias('TipoContrato_DoisAnos'), \n",
        "        f.col('DebitoEmConta').alias('MetodoPagamento_DebitoEmConta'), \n",
        "        f.col('CartaoCredito').alias('MetodoPagamento_CartaoCredito'), \n",
        "        f.col('BoletoEletronico').alias('MetodoPagamento_BoletoEletronico'), \n",
        "        f.col('Boleto').alias('MetodoPagamento_Boleto')        \n",
        "    )\\\n",
        "    .drop(\n",
        "        'Internet', 'TipoContrato', 'MetodoPagamento', 'DSL', \n",
        "        'FibraOptica', 'Nao', 'Mensalmente', 'UmAno', 'DoisAnos', \n",
        "        'DebitoEmConta', 'CartaoCredito', 'BoletoEletronico', 'Boleto'\n",
        "    )"
      ],
      "metadata": {
        "id": "YWNYNYMTPp7_"
      },
      "execution_count": 21,
      "outputs": []
    },
    {
      "cell_type": "code",
      "source": [
        "dataset.printSchema()"
      ],
      "metadata": {
        "colab": {
          "base_uri": "https://localhost:8080/"
        },
        "id": "hLl9tX0UPwJv",
        "outputId": "bfe77934-2926-410b-d2fd-c05bc3b3fa26"
      },
      "execution_count": 22,
      "outputs": [
        {
          "output_type": "stream",
          "name": "stdout",
          "text": [
            "root\n",
            " |-- id: integer (nullable = true)\n",
            " |-- Mais65anos: integer (nullable = true)\n",
            " |-- MesesDeContrato: integer (nullable = true)\n",
            " |-- MesesCobrados: double (nullable = true)\n",
            " |-- Churn: integer (nullable = false)\n",
            " |-- Conjuge: integer (nullable = false)\n",
            " |-- Dependentes: integer (nullable = false)\n",
            " |-- TelefoneFixo: integer (nullable = false)\n",
            " |-- MaisDeUmaLinhaTelefonica: integer (nullable = false)\n",
            " |-- SegurancaOnline: integer (nullable = false)\n",
            " |-- BackupOnline: integer (nullable = false)\n",
            " |-- SeguroDispositivo: integer (nullable = false)\n",
            " |-- SuporteTecnico: integer (nullable = false)\n",
            " |-- TVaCabo: integer (nullable = false)\n",
            " |-- StreamingFilmes: integer (nullable = false)\n",
            " |-- ContaCorreio: integer (nullable = false)\n",
            " |-- Internet_DSL: integer (nullable = true)\n",
            " |-- Internet_FibraOptica: integer (nullable = true)\n",
            " |-- Internet_Nao: integer (nullable = true)\n",
            " |-- TipoContrato_Mensalmente: integer (nullable = true)\n",
            " |-- TipoContrato_UmAno: integer (nullable = true)\n",
            " |-- TipoContrato_DoisAnos: integer (nullable = true)\n",
            " |-- MetodoPagamento_DebitoEmConta: integer (nullable = true)\n",
            " |-- MetodoPagamento_CartaoCredito: integer (nullable = true)\n",
            " |-- MetodoPagamento_BoletoEletronico: integer (nullable = true)\n",
            " |-- MetodoPagamento_Boleto: integer (nullable = true)\n",
            "\n"
          ]
        }
      ]
    },
    {
      "cell_type": "markdown",
      "source": [
        "# 2 - Utilizando a Regressão Logística"
      ],
      "metadata": {
        "id": "xHzzEcR6TkBV"
      }
    },
    {
      "cell_type": "markdown",
      "source": [
        "## 2.1 - Preparando os Dados"
      ],
      "metadata": {
        "id": "Eej4V5SnT3BL"
      }
    },
    {
      "cell_type": "code",
      "source": [
        "from pyspark.ml.feature import VectorAssembler"
      ],
      "metadata": {
        "id": "ji2g44PTP1d4"
      },
      "execution_count": 23,
      "outputs": []
    },
    {
      "cell_type": "code",
      "source": [
        "dataset = dataset.withColumnRenamed('Churn', 'label')"
      ],
      "metadata": {
        "id": "2uNrkZxXVySC"
      },
      "execution_count": 24,
      "outputs": []
    },
    {
      "cell_type": "code",
      "source": [
        "X = dataset.columns\n",
        "X.remove('label')\n",
        "X.remove('id')\n",
        "X"
      ],
      "metadata": {
        "colab": {
          "base_uri": "https://localhost:8080/"
        },
        "id": "14H8sGEKVyPu",
        "outputId": "efa456fe-7e73-418a-c6a1-92b77dbea9ef"
      },
      "execution_count": 25,
      "outputs": [
        {
          "output_type": "execute_result",
          "data": {
            "text/plain": [
              "['Mais65anos',\n",
              " 'MesesDeContrato',\n",
              " 'MesesCobrados',\n",
              " 'Conjuge',\n",
              " 'Dependentes',\n",
              " 'TelefoneFixo',\n",
              " 'MaisDeUmaLinhaTelefonica',\n",
              " 'SegurancaOnline',\n",
              " 'BackupOnline',\n",
              " 'SeguroDispositivo',\n",
              " 'SuporteTecnico',\n",
              " 'TVaCabo',\n",
              " 'StreamingFilmes',\n",
              " 'ContaCorreio',\n",
              " 'Internet_DSL',\n",
              " 'Internet_FibraOptica',\n",
              " 'Internet_Nao',\n",
              " 'TipoContrato_Mensalmente',\n",
              " 'TipoContrato_UmAno',\n",
              " 'TipoContrato_DoisAnos',\n",
              " 'MetodoPagamento_DebitoEmConta',\n",
              " 'MetodoPagamento_CartaoCredito',\n",
              " 'MetodoPagamento_BoletoEletronico',\n",
              " 'MetodoPagamento_Boleto']"
            ]
          },
          "metadata": {},
          "execution_count": 25
        }
      ]
    },
    {
      "cell_type": "code",
      "source": [
        "assembler = VectorAssembler(inputCols=X, outputCol='features')"
      ],
      "metadata": {
        "id": "tw10vgd8Vp8Z"
      },
      "execution_count": 26,
      "outputs": []
    },
    {
      "cell_type": "code",
      "source": [
        "dataset_prep = assembler.transform(dataset).select('features', 'label')"
      ],
      "metadata": {
        "id": "0sIv8_D-WCGo"
      },
      "execution_count": 27,
      "outputs": []
    },
    {
      "cell_type": "code",
      "source": [
        "dataset_prep.show(10, truncate=False)"
      ],
      "metadata": {
        "colab": {
          "base_uri": "https://localhost:8080/"
        },
        "id": "Yrsp5034Wk2b",
        "outputId": "f95d4153-52bc-4653-829b-f12b8b372136"
      },
      "execution_count": 28,
      "outputs": [
        {
          "output_type": "stream",
          "name": "stdout",
          "text": [
            "+-----------------------------------------------------------------------------------------------------------+-----+\n",
            "|features                                                                                                   |label|\n",
            "+-----------------------------------------------------------------------------------------------------------+-----+\n",
            "|(24,[1,2,11,12,13,14,17,22],[1.0,45.30540797610398,1.0,1.0,1.0,1.0,1.0,1.0])                               |1    |\n",
            "|(24,[1,2,3,5,6,8,9,11,12,13,15,17,22],[60.0,103.6142230120257,1.0,1.0,1.0,1.0,1.0,1.0,1.0,1.0,1.0,1.0,1.0])|1    |\n",
            "|(24,[1,2,5,6,10,11,12,13,14,18,23],[12.0,75.85,1.0,1.0,1.0,1.0,1.0,1.0,1.0,1.0,1.0])                       |0    |\n",
            "|(24,[1,2,3,5,8,12,13,14,19,21],[69.0,61.45,1.0,1.0,1.0,1.0,1.0,1.0,1.0,1.0])                               |0    |\n",
            "|(24,[1,2,3,5,6,11,13,15,17,22],[7.0,86.5,1.0,1.0,1.0,1.0,1.0,1.0,1.0,1.0])                                 |1    |\n",
            "|(24,[1,2,5,6,12,13,15,17,22],[14.0,85.03742670311915,1.0,1.0,1.0,1.0,1.0,1.0,1.0])                         |1    |\n",
            "|(24,[1,2,3,5,6,8,9,10,11,12,13,15,18,20],[57.0,109.4,1.0,1.0,1.0,1.0,1.0,1.0,1.0,1.0,1.0,1.0,1.0,1.0])     |0    |\n",
            "|(24,[1,2,5,6,15,17,23],[18.0,74.15,1.0,1.0,1.0,1.0,1.0])                                                   |0    |\n",
            "|(24,[1,2,3,5,7,8,10,14,17,23],[28.0,60.9,1.0,1.0,1.0,1.0,1.0,1.0,1.0,1.0])                                 |0    |\n",
            "|(24,[1,2,3,5,12,13,15,17,22],[46.0,80.8824189403559,1.0,1.0,1.0,1.0,1.0,1.0,1.0])                          |1    |\n",
            "+-----------------------------------------------------------------------------------------------------------+-----+\n",
            "only showing top 10 rows\n",
            "\n"
          ]
        }
      ]
    },
    {
      "cell_type": "markdown",
      "source": [
        "## 2.2 - Ajuste e Previsão"
      ],
      "metadata": {
        "id": "xX8HGFQFbwC6"
      }
    },
    {
      "cell_type": "code",
      "source": [
        "SEED = 101"
      ],
      "metadata": {
        "id": "ZDzb8i4oeBJc"
      },
      "execution_count": 29,
      "outputs": []
    },
    {
      "cell_type": "code",
      "source": [
        "treino, teste = dataset_prep.randomSplit([0.7, 0.3], seed = SEED)"
      ],
      "metadata": {
        "id": "tCCwpM3qWlcr"
      },
      "execution_count": 30,
      "outputs": []
    },
    {
      "cell_type": "code",
      "source": [
        "treino.count()"
      ],
      "metadata": {
        "colab": {
          "base_uri": "https://localhost:8080/"
        },
        "id": "Db0O4zgieDIm",
        "outputId": "e4126f6b-36f8-49e4-e829-3d3c6a72168d"
      },
      "execution_count": 31,
      "outputs": [
        {
          "output_type": "execute_result",
          "data": {
            "text/plain": [
              "7206"
            ]
          },
          "metadata": {},
          "execution_count": 31
        }
      ]
    },
    {
      "cell_type": "code",
      "source": [
        "teste.count()"
      ],
      "metadata": {
        "colab": {
          "base_uri": "https://localhost:8080/"
        },
        "id": "8lKObJdJeFVe",
        "outputId": "305d44fb-fa78-48e3-8dee-6fbd534dbf65"
      },
      "execution_count": 32,
      "outputs": [
        {
          "output_type": "execute_result",
          "data": {
            "text/plain": [
              "3142"
            ]
          },
          "metadata": {},
          "execution_count": 32
        }
      ]
    },
    {
      "cell_type": "code",
      "source": [
        "from pyspark.ml.classification import LogisticRegression"
      ],
      "metadata": {
        "id": "2Ni63JbYeHeu"
      },
      "execution_count": 33,
      "outputs": []
    },
    {
      "cell_type": "code",
      "source": [
        "lr = LogisticRegression()"
      ],
      "metadata": {
        "id": "wyiOhcS2e8a5"
      },
      "execution_count": 34,
      "outputs": []
    },
    {
      "cell_type": "code",
      "source": [
        "modelo_lr = lr.fit(treino)"
      ],
      "metadata": {
        "id": "Yf1I5Yz4e__5"
      },
      "execution_count": 35,
      "outputs": []
    },
    {
      "cell_type": "code",
      "source": [
        "previsoes_lr_teste = modelo_lr.transform(teste)"
      ],
      "metadata": {
        "id": "NGUqTvISfDdK"
      },
      "execution_count": 36,
      "outputs": []
    },
    {
      "cell_type": "code",
      "source": [
        "previsoes_lr_teste.show()"
      ],
      "metadata": {
        "colab": {
          "base_uri": "https://localhost:8080/"
        },
        "id": "XADjb2DffN8L",
        "outputId": "cabef0bc-f18c-4384-8499-7c068032d950"
      },
      "execution_count": 37,
      "outputs": [
        {
          "output_type": "stream",
          "name": "stdout",
          "text": [
            "+--------------------+-----+--------------------+--------------------+----------+\n",
            "|            features|label|       rawPrediction|         probability|prediction|\n",
            "+--------------------+-----+--------------------+--------------------+----------+\n",
            "|(24,[0,1,2,3,4,5,...|    0|[3.02174179751551...|[0.95354674000282...|       0.0|\n",
            "|(24,[0,1,2,3,4,5,...|    0|[-0.0922192966076...|[0.47696150091605...|       1.0|\n",
            "|(24,[0,1,2,3,4,5,...|    1|[0.18744121711361...|[0.54672358463156...|       0.0|\n",
            "|(24,[0,1,2,3,4,5,...|    1|[0.91716501260103...|[0.71446410549163...|       0.0|\n",
            "|(24,[0,1,2,3,4,5,...|    0|[-0.1495904711610...|[0.46267196467801...|       1.0|\n",
            "|(24,[0,1,2,3,4,5,...|    0|[-0.1680594619286...|[0.45808374494006...|       1.0|\n",
            "|(24,[0,1,2,3,4,5,...|    0|[-1.4170949608173...|[0.19511740608882...|       1.0|\n",
            "|(24,[0,1,2,3,4,5,...|    0|[0.14194260698794...|[0.53542619200881...|       0.0|\n",
            "|(24,[0,1,2,3,4,5,...|    0|[0.67046644011599...|[0.66160759507905...|       0.0|\n",
            "|(24,[0,1,2,3,4,5,...|    0|[1.46841036244999...|[0.81281564870727...|       0.0|\n",
            "|(24,[0,1,2,3,4,5,...|    1|[-0.2187083605333...|[0.44553982138394...|       1.0|\n",
            "|(24,[0,1,2,3,4,5,...|    1|[-1.0342537570067...|[0.26226025614667...|       1.0|\n",
            "|(24,[0,1,2,3,4,5,...|    0|[5.50017227754075...|[0.99593056056380...|       0.0|\n",
            "|(24,[0,1,2,3,4,8,...|    0|[0.78512618330368...|[0.68678387079939...|       0.0|\n",
            "|(24,[0,1,2,3,4,8,...|    0|[0.84647423373263...|[0.69982700991647...|       0.0|\n",
            "|(24,[0,1,2,3,4,8,...|    0|[2.71891428132878...|[0.93813354968549...|       0.0|\n",
            "|(24,[0,1,2,3,5,6,...|    0|[4.47635640497720...|[0.98875314765919...|       0.0|\n",
            "|(24,[0,1,2,3,5,6,...|    0|[1.61650336401316...|[0.83431233628064...|       0.0|\n",
            "|(24,[0,1,2,3,5,6,...|    0|[3.44539231448552...|[0.96909343212403...|       0.0|\n",
            "|(24,[0,1,2,3,5,6,...|    0|[3.42849251731228...|[0.96858322780664...|       0.0|\n",
            "+--------------------+-----+--------------------+--------------------+----------+\n",
            "only showing top 20 rows\n",
            "\n"
          ]
        }
      ]
    },
    {
      "cell_type": "markdown",
      "source": [
        "## 2.3 - Métricas"
      ],
      "metadata": {
        "id": "GEBfccjCh-gU"
      }
    },
    {
      "cell_type": "code",
      "source": [
        "resumo_lr_treino = modelo_lr.summary"
      ],
      "metadata": {
        "id": "VLqKeFnAfQfk"
      },
      "execution_count": 38,
      "outputs": []
    },
    {
      "cell_type": "code",
      "source": [
        "resumo_lr_treino.accuracy"
      ],
      "metadata": {
        "colab": {
          "base_uri": "https://localhost:8080/"
        },
        "id": "ZVAxeLX9osM1",
        "outputId": "de18e43f-c4c1-4f72-f309-ceaacbf30c71"
      },
      "execution_count": 39,
      "outputs": [
        {
          "output_type": "execute_result",
          "data": {
            "text/plain": [
              "0.7849014709963918"
            ]
          },
          "metadata": {},
          "execution_count": 39
        }
      ]
    },
    {
      "cell_type": "code",
      "source": [
        "print(\"Acurácia: %f\" % resumo_lr_treino.accuracy)\n",
        "print(\"Precisão: %f\" % resumo_lr_treino.precisionByLabel[1])\n",
        "print(\"Recall: %f\" % resumo_lr_treino.recallByLabel[1])\n",
        "print(\"F1: %f\" % resumo_lr_treino.fMeasureByLabel()[1])"
      ],
      "metadata": {
        "colab": {
          "base_uri": "https://localhost:8080/"
        },
        "id": "8Epu0wyzot6V",
        "outputId": "dcb707f3-b78b-44df-d528-aabf9e6857b3"
      },
      "execution_count": 40,
      "outputs": [
        {
          "output_type": "stream",
          "name": "stdout",
          "text": [
            "Acurácia: 0.784901\n",
            "Precisão: 0.770686\n",
            "Recall: 0.812517\n",
            "F1: 0.791049\n"
          ]
        }
      ]
    },
    {
      "cell_type": "code",
      "source": [
        "previsoes_lr_teste.select('label', 'prediction').show()"
      ],
      "metadata": {
        "colab": {
          "base_uri": "https://localhost:8080/"
        },
        "id": "-l1IcGF6ovXW",
        "outputId": "c1930f83-48e6-4b35-af7a-72202911adbe"
      },
      "execution_count": 41,
      "outputs": [
        {
          "output_type": "stream",
          "name": "stdout",
          "text": [
            "+-----+----------+\n",
            "|label|prediction|\n",
            "+-----+----------+\n",
            "|    0|       0.0|\n",
            "|    0|       1.0|\n",
            "|    1|       0.0|\n",
            "|    1|       0.0|\n",
            "|    0|       1.0|\n",
            "|    0|       1.0|\n",
            "|    0|       1.0|\n",
            "|    0|       0.0|\n",
            "|    0|       0.0|\n",
            "|    0|       0.0|\n",
            "|    1|       1.0|\n",
            "|    1|       1.0|\n",
            "|    0|       0.0|\n",
            "|    0|       0.0|\n",
            "|    0|       0.0|\n",
            "|    0|       0.0|\n",
            "|    0|       0.0|\n",
            "|    0|       0.0|\n",
            "|    0|       0.0|\n",
            "|    0|       0.0|\n",
            "+-----+----------+\n",
            "only showing top 20 rows\n",
            "\n"
          ]
        }
      ]
    },
    {
      "cell_type": "code",
      "source": [
        "#Testando comando para selecionar APENAS as linhas cujos valores são iguais a 1\n",
        "\n",
        "previsoes_lr_teste.select('label', 'prediction').where((f.col('label') == 1) & (f.col('prediction') == 1)).show()"
      ],
      "metadata": {
        "colab": {
          "base_uri": "https://localhost:8080/"
        },
        "id": "m7uxfz5voynm",
        "outputId": "ee540bc3-66d3-4fc8-8d09-5991d8b44a7b"
      },
      "execution_count": 42,
      "outputs": [
        {
          "output_type": "stream",
          "name": "stdout",
          "text": [
            "+-----+----------+\n",
            "|label|prediction|\n",
            "+-----+----------+\n",
            "|    1|       1.0|\n",
            "|    1|       1.0|\n",
            "|    1|       1.0|\n",
            "|    1|       1.0|\n",
            "|    1|       1.0|\n",
            "|    1|       1.0|\n",
            "|    1|       1.0|\n",
            "|    1|       1.0|\n",
            "|    1|       1.0|\n",
            "|    1|       1.0|\n",
            "|    1|       1.0|\n",
            "|    1|       1.0|\n",
            "|    1|       1.0|\n",
            "|    1|       1.0|\n",
            "|    1|       1.0|\n",
            "|    1|       1.0|\n",
            "|    1|       1.0|\n",
            "|    1|       1.0|\n",
            "|    1|       1.0|\n",
            "|    1|       1.0|\n",
            "+-----+----------+\n",
            "only showing top 20 rows\n",
            "\n"
          ]
        }
      ]
    },
    {
      "cell_type": "code",
      "source": [
        "tp = previsoes_lr_teste.select('label', 'prediction').where((f.col('label') == 1) & (f.col('prediction') == 1)).count()\n",
        "tn = previsoes_lr_teste.select('label', 'prediction').where((f.col('label') == 0) & (f.col('prediction') == 0)).count()\n",
        "fp = previsoes_lr_teste.select('label', 'prediction').where((f.col('label') == 0) & (f.col('prediction') == 1)).count()\n",
        "fn = previsoes_lr_teste.select('label', 'prediction').where((f.col('label') == 1) & (f.col('prediction') == 0)).count()\n",
        "print(tp, tn,fp, fn)"
      ],
      "metadata": {
        "colab": {
          "base_uri": "https://localhost:8080/"
        },
        "id": "PImAvWDxo0bW",
        "outputId": "4cfa3b7e-2050-4876-d262-ff51d40aabc5"
      },
      "execution_count": 43,
      "outputs": [
        {
          "output_type": "stream",
          "name": "stdout",
          "text": [
            "1256 1179 400 307\n"
          ]
        }
      ]
    },
    {
      "cell_type": "code",
      "source": [
        "def calcula_mostra_matriz_confusao(df_transform_modelo, normalize=False, percentage=True):\n",
        "  tp = df_transform_modelo.select('label', 'prediction').where((f.col('label') == 1) & (f.col('prediction') == 1)).count()\n",
        "  tn = df_transform_modelo.select('label', 'prediction').where((f.col('label') == 0) & (f.col('prediction') == 0)).count()\n",
        "  fp = df_transform_modelo.select('label', 'prediction').where((f.col('label') == 0) & (f.col('prediction') == 1)).count()\n",
        "  fn = df_transform_modelo.select('label', 'prediction').where((f.col('label') == 1) & (f.col('prediction') == 0)).count()\n",
        "\n",
        "  valorP = 1\n",
        "  valorN = 1\n",
        "\n",
        "  if normalize:\n",
        "    valorP = tp + fn\n",
        "    valorN = fp + tn\n",
        "\n",
        "  if percentage and normalize:\n",
        "    valorP = valorP / 100\n",
        "    valorN = valorN / 100\n",
        "\n",
        "  print(' '*20, 'Previsto')\n",
        "  print(' '*15, 'Churn', ' '*5 ,'Não-Churn')\n",
        "  print(' '*4, 'Churn', ' '*6, int(tp/valorP), ' '*7, int(fn/valorP))\n",
        "  print('Real')\n",
        "  print(' '*4, 'Não-Churn', ' '*2, int(fp/valorN), ' '*7, int(tn/valorN))"
      ],
      "metadata": {
        "id": "ozMxZlLWpngP"
      },
      "execution_count": 44,
      "outputs": []
    },
    {
      "cell_type": "code",
      "source": [
        "calcula_mostra_matriz_confusao(previsoes_lr_teste, normalize=False)"
      ],
      "metadata": {
        "colab": {
          "base_uri": "https://localhost:8080/"
        },
        "id": "VAmlqdUtpuqB",
        "outputId": "3551c682-f0dc-4e54-ef67-0ee5c0b5cd8f"
      },
      "execution_count": 45,
      "outputs": [
        {
          "output_type": "stream",
          "name": "stdout",
          "text": [
            "                     Previsto\n",
            "                Churn       Não-Churn\n",
            "     Churn        1256         307\n",
            "Real\n",
            "     Não-Churn    400         1179\n"
          ]
        }
      ]
    },
    {
      "cell_type": "code",
      "source": [
        "calcula_mostra_matriz_confusao(previsoes_lr_teste, normalize=True)"
      ],
      "metadata": {
        "colab": {
          "base_uri": "https://localhost:8080/"
        },
        "id": "JisVr11KqHK1",
        "outputId": "5fd475d8-46fc-41b1-f0a4-165ae6c2bb40"
      },
      "execution_count": 46,
      "outputs": [
        {
          "output_type": "stream",
          "name": "stdout",
          "text": [
            "                     Previsto\n",
            "                Churn       Não-Churn\n",
            "     Churn        80         19\n",
            "Real\n",
            "     Não-Churn    25         74\n"
          ]
        }
      ]
    },
    {
      "cell_type": "code",
      "source": [
        "from utils import calcula_mostra_metricas\n",
        "\n",
        "print(calcula_mostra_metricas(modelo_lr, previsoes_lr_teste, normalize=True))"
      ],
      "metadata": {
        "colab": {
          "base_uri": "https://localhost:8080/"
        },
        "id": "JrWdwCGWqfHJ",
        "outputId": "24bcf320-d920-477d-89e6-ca97ea98ef49"
      },
      "execution_count": 47,
      "outputs": [
        {
          "output_type": "stream",
          "name": "stdout",
          "text": [
            "                    Previsto\n",
            "               Churn     Não-Churn\n",
            "    Churn      80       19\n",
            "Real\n",
            "    Não-Churn  25       74\n",
            "\n",
            "Acurácia: 0.7849014709963918\n",
            "Precisão: 0.7706855791962175\n",
            "Recall: 0.8125173082248685\n",
            "F1: 0.7910488002156916\n",
            "\n"
          ]
        }
      ]
    },
    {
      "cell_type": "markdown",
      "source": [
        "# 3 - Utilizando a Árvore de Decisão"
      ],
      "metadata": {
        "id": "EmpCjk_mhCCx"
      }
    },
    {
      "cell_type": "markdown",
      "source": [
        "## 3.1 - Ajuste e Previsão"
      ],
      "metadata": {
        "id": "rinm7gDohKXi"
      }
    },
    {
      "cell_type": "code",
      "source": [
        "from pyspark.ml.classification import DecisionTreeClassifier"
      ],
      "metadata": {
        "id": "WbqkTtoOfVAw"
      },
      "execution_count": 48,
      "outputs": []
    },
    {
      "cell_type": "code",
      "source": [
        "dtc = DecisionTreeClassifier(seed=SEED)"
      ],
      "metadata": {
        "id": "cgIxBtGdiNbO"
      },
      "execution_count": 49,
      "outputs": []
    },
    {
      "cell_type": "code",
      "source": [
        "modelo_dtc = dtc.fit(treino)"
      ],
      "metadata": {
        "id": "5uczC6_DiUpv"
      },
      "execution_count": 50,
      "outputs": []
    },
    {
      "cell_type": "code",
      "source": [
        "previsoes_dtc_treino = modelo_dtc.transform(treino)"
      ],
      "metadata": {
        "id": "MiQ8_fHTiffK"
      },
      "execution_count": 51,
      "outputs": []
    },
    {
      "cell_type": "code",
      "source": [
        "previsoes_dtc_treino.show()"
      ],
      "metadata": {
        "colab": {
          "base_uri": "https://localhost:8080/"
        },
        "id": "t39U-BSfi9xH",
        "outputId": "b34838d7-6dd7-4300-c673-5096a5c3093e"
      },
      "execution_count": 52,
      "outputs": [
        {
          "output_type": "stream",
          "name": "stdout",
          "text": [
            "+--------------------+-----+--------------+--------------------+----------+\n",
            "|            features|label| rawPrediction|         probability|prediction|\n",
            "+--------------------+-----+--------------+--------------------+----------+\n",
            "|(24,[0,1,2,3,4,5,...|    0|[2056.0,334.0]|[0.86025104602510...|       0.0|\n",
            "|(24,[0,1,2,3,4,5,...|    0|[2056.0,334.0]|[0.86025104602510...|       0.0|\n",
            "|(24,[0,1,2,3,4,5,...|    0|    [22.0,3.0]|         [0.88,0.12]|       0.0|\n",
            "|(24,[0,1,2,3,4,5,...|    0|    [22.0,3.0]|         [0.88,0.12]|       0.0|\n",
            "|(24,[0,1,2,3,4,5,...|    0|    [22.0,3.0]|         [0.88,0.12]|       0.0|\n",
            "|(24,[0,1,2,3,4,5,...|    1|[331.0,1951.0]|[0.14504820333041...|       1.0|\n",
            "|(24,[0,1,2,3,4,5,...|    0| [239.0,205.0]|[0.53828828828828...|       0.0|\n",
            "|(24,[0,1,2,3,4,5,...|    1|[331.0,1951.0]|[0.14504820333041...|       1.0|\n",
            "|(24,[0,1,2,3,4,5,...|    0|[331.0,1951.0]|[0.14504820333041...|       1.0|\n",
            "|(24,[0,1,2,3,4,5,...|    0|[331.0,1951.0]|[0.14504820333041...|       1.0|\n",
            "|(24,[0,1,2,3,4,5,...|    0|[331.0,1951.0]|[0.14504820333041...|       1.0|\n",
            "|(24,[0,1,2,3,4,5,...|    0|[2056.0,334.0]|[0.86025104602510...|       0.0|\n",
            "|(24,[0,1,2,3,4,5,...|    0|[331.0,1951.0]|[0.14504820333041...|       1.0|\n",
            "|(24,[0,1,2,3,4,5,...|    0|[2056.0,334.0]|[0.86025104602510...|       0.0|\n",
            "|(24,[0,1,2,3,4,5,...|    0| [239.0,205.0]|[0.53828828828828...|       0.0|\n",
            "|(24,[0,1,2,3,4,5,...|    1| [239.0,205.0]|[0.53828828828828...|       0.0|\n",
            "|(24,[0,1,2,3,4,5,...|    0|[2056.0,334.0]|[0.86025104602510...|       0.0|\n",
            "|(24,[0,1,2,3,4,5,...|    0|  [51.0,141.0]| [0.265625,0.734375]|       1.0|\n",
            "|(24,[0,1,2,3,4,5,...|    0|[2056.0,334.0]|[0.86025104602510...|       0.0|\n",
            "|(24,[0,1,2,3,4,5,...|    0|[2056.0,334.0]|[0.86025104602510...|       0.0|\n",
            "+--------------------+-----+--------------+--------------------+----------+\n",
            "only showing top 20 rows\n",
            "\n"
          ]
        }
      ]
    },
    {
      "cell_type": "markdown",
      "source": [
        "## 3.2 - Métricas"
      ],
      "metadata": {
        "id": "tjSGMbxGjsWV"
      }
    },
    {
      "cell_type": "code",
      "source": [
        "from pyspark.ml.evaluation import MulticlassClassificationEvaluator"
      ],
      "metadata": {
        "id": "R1WLDC8ijAWv"
      },
      "execution_count": 53,
      "outputs": []
    },
    {
      "cell_type": "code",
      "source": [
        "evaluator = MulticlassClassificationEvaluator()"
      ],
      "metadata": {
        "id": "HdF_pIavo1-i"
      },
      "execution_count": 54,
      "outputs": []
    },
    {
      "cell_type": "code",
      "source": [
        "evaluator.evaluate(previsoes_dtc_treino, {evaluator.metricName: 'accuracy'})"
      ],
      "metadata": {
        "colab": {
          "base_uri": "https://localhost:8080/"
        },
        "id": "rXplyAoOo7dL",
        "outputId": "e1c89150-de03-4821-c974-167075d05635"
      },
      "execution_count": 55,
      "outputs": [
        {
          "output_type": "execute_result",
          "data": {
            "text/plain": [
              "0.7917013599777962"
            ]
          },
          "metadata": {},
          "execution_count": 55
        }
      ]
    },
    {
      "cell_type": "code",
      "source": [
        "print(\"Acurácia: %f\" % evaluator.evaluate(previsoes_dtc_treino, {evaluator.metricName: \"accuracy\"}))\n",
        "print(\"Precisão: %f\" % evaluator.evaluate(previsoes_dtc_treino, {evaluator.metricName: \"precisionByLabel\", evaluator.metricLabel: 1}))\n",
        "print(\"Recall: %f\" % evaluator.evaluate(previsoes_dtc_treino, {evaluator.metricName: \"recallByLabel\", evaluator.metricLabel: 1}))\n",
        "print(\"F1: %f\" % evaluator.evaluate(previsoes_dtc_treino, {evaluator.metricName: \"fMeasureByLabel\", evaluator.metricLabel: 1}))"
      ],
      "metadata": {
        "colab": {
          "base_uri": "https://localhost:8080/"
        },
        "id": "49CGJ8aRpHBt",
        "outputId": "70815445-1ff9-4f6c-8003-de1e6612afe1"
      },
      "execution_count": 56,
      "outputs": [
        {
          "output_type": "stream",
          "name": "stdout",
          "text": [
            "Acurácia: 0.791701\n",
            "Precisão: 0.805090\n",
            "Recall: 0.770978\n",
            "F1: 0.787664\n"
          ]
        }
      ]
    },
    {
      "cell_type": "code",
      "source": [
        "previsoes_dtc_teste = modelo_dtc.transform(teste)"
      ],
      "metadata": {
        "id": "9aFnpn2ipMau"
      },
      "execution_count": 57,
      "outputs": []
    },
    {
      "cell_type": "code",
      "source": [
        "previsoes_dtc_teste.show()"
      ],
      "metadata": {
        "colab": {
          "base_uri": "https://localhost:8080/"
        },
        "id": "vHLqilSgpWJH",
        "outputId": "a8a887ed-c136-4764-e202-7eed18604b0a"
      },
      "execution_count": 58,
      "outputs": [
        {
          "output_type": "stream",
          "name": "stdout",
          "text": [
            "+--------------------+-----+--------------+--------------------+----------+\n",
            "|            features|label| rawPrediction|         probability|prediction|\n",
            "+--------------------+-----+--------------+--------------------+----------+\n",
            "|(24,[0,1,2,3,4,5,...|    0|[2056.0,334.0]|[0.86025104602510...|       0.0|\n",
            "|(24,[0,1,2,3,4,5,...|    0|  [62.0,128.0]|[0.32631578947368...|       1.0|\n",
            "|(24,[0,1,2,3,4,5,...|    1| [239.0,205.0]|[0.53828828828828...|       0.0|\n",
            "|(24,[0,1,2,3,4,5,...|    1| [239.0,205.0]|[0.53828828828828...|       0.0|\n",
            "|(24,[0,1,2,3,4,5,...|    0| [239.0,205.0]|[0.53828828828828...|       0.0|\n",
            "|(24,[0,1,2,3,4,5,...|    0|  [51.0,141.0]| [0.265625,0.734375]|       1.0|\n",
            "|(24,[0,1,2,3,4,5,...|    0|[331.0,1951.0]|[0.14504820333041...|       1.0|\n",
            "|(24,[0,1,2,3,4,5,...|    0| [239.0,205.0]|[0.53828828828828...|       0.0|\n",
            "|(24,[0,1,2,3,4,5,...|    0|  [63.0,118.0]|[0.34806629834254...|       1.0|\n",
            "|(24,[0,1,2,3,4,5,...|    0|[2056.0,334.0]|[0.86025104602510...|       0.0|\n",
            "|(24,[0,1,2,3,4,5,...|    1|  [63.0,118.0]|[0.34806629834254...|       1.0|\n",
            "|(24,[0,1,2,3,4,5,...|    1|[331.0,1951.0]|[0.14504820333041...|       1.0|\n",
            "|(24,[0,1,2,3,4,5,...|    0|[2056.0,334.0]|[0.86025104602510...|       0.0|\n",
            "|(24,[0,1,2,3,4,8,...|    0| [445.0,181.0]|[0.71086261980830...|       0.0|\n",
            "|(24,[0,1,2,3,4,8,...|    0|[2056.0,334.0]|[0.86025104602510...|       0.0|\n",
            "|(24,[0,1,2,3,4,8,...|    0|[2056.0,334.0]|[0.86025104602510...|       0.0|\n",
            "|(24,[0,1,2,3,5,6,...|    0|[2056.0,334.0]|[0.86025104602510...|       0.0|\n",
            "|(24,[0,1,2,3,5,6,...|    0| [239.0,205.0]|[0.53828828828828...|       0.0|\n",
            "|(24,[0,1,2,3,5,6,...|    0|[2056.0,334.0]|[0.86025104602510...|       0.0|\n",
            "|(24,[0,1,2,3,5,6,...|    0|[2056.0,334.0]|[0.86025104602510...|       0.0|\n",
            "+--------------------+-----+--------------+--------------------+----------+\n",
            "only showing top 20 rows\n",
            "\n"
          ]
        }
      ]
    },
    {
      "cell_type": "code",
      "source": [
        "evaluator.evaluate(previsoes_dtc_teste, {evaluator.metricName: 'accuracy'})"
      ],
      "metadata": {
        "colab": {
          "base_uri": "https://localhost:8080/"
        },
        "id": "VhelHCNopYpA",
        "outputId": "0bf149b8-2585-4c0d-8025-6f0b501404bd"
      },
      "execution_count": 59,
      "outputs": [
        {
          "output_type": "execute_result",
          "data": {
            "text/plain": [
              "0.7714831317632082"
            ]
          },
          "metadata": {},
          "execution_count": 59
        }
      ]
    },
    {
      "cell_type": "code",
      "source": [
        "print('Decision Tree Classifier')\n",
        "print(\"=\"*40)\n",
        "print(\"Dados de Treino\")\n",
        "print(\"=\"*40)\n",
        "print(\"Matriz de Confusão\")\n",
        "print(\"-\"*40)\n",
        "calcula_mostra_matriz_confusao(previsoes_dtc_treino, normalize=False)\n",
        "print(\"-\"*40)\n",
        "print(\"Métricas\")\n",
        "print(\"-\"*40)\n",
        "print(\"Acurácia: %f\" % evaluator.evaluate(previsoes_dtc_treino, {evaluator.metricName: \"accuracy\"}))\n",
        "print(\"Precisão: %f\" % evaluator.evaluate(previsoes_dtc_treino, {evaluator.metricName: \"precisionByLabel\", evaluator.metricLabel: 1}))\n",
        "print(\"Recall: %f\" % evaluator.evaluate(previsoes_dtc_treino, {evaluator.metricName: \"recallByLabel\", evaluator.metricLabel: 1}))\n",
        "print(\"F1: %f\" % evaluator.evaluate(previsoes_dtc_treino, {evaluator.metricName: \"fMeasureByLabel\", evaluator.metricLabel: 1}))\n",
        "print(\"\")\n",
        "print(\"=\"*40)\n",
        "print(\"Dados de Teste\")\n",
        "print(\"=\"*40)\n",
        "print(\"Matriz de Confusão\")\n",
        "print(\"-\"*40)\n",
        "calcula_mostra_matriz_confusao(previsoes_dtc_teste, normalize=False)\n",
        "print(\"-\"*40)\n",
        "print(\"Métricas\")\n",
        "print(\"-\"*40)\n",
        "print(\"Acurácia: %f\" % evaluator.evaluate(previsoes_dtc_teste, {evaluator.metricName: \"accuracy\"}))\n",
        "print(\"Precisão: %f\" % evaluator.evaluate(previsoes_dtc_teste, {evaluator.metricName: \"precisionByLabel\", evaluator.metricLabel: 1}))\n",
        "print(\"Recall: %f\" % evaluator.evaluate(previsoes_dtc_teste, {evaluator.metricName: \"recallByLabel\", evaluator.metricLabel: 1}))\n",
        "print(\"F1: %f\" % evaluator.evaluate(previsoes_dtc_teste, {evaluator.metricName: \"fMeasureByLabel\", evaluator.metricLabel: 1}))"
      ],
      "metadata": {
        "colab": {
          "base_uri": "https://localhost:8080/"
        },
        "id": "iARQ8e9Fpjx5",
        "outputId": "4ef3c10d-f1db-4aea-9b80-66d02faff900"
      },
      "execution_count": 60,
      "outputs": [
        {
          "output_type": "stream",
          "name": "stdout",
          "text": [
            "Decision Tree Classifier\n",
            "========================================\n",
            "Dados de Treino\n",
            "========================================\n",
            "Matriz de Confusão\n",
            "----------------------------------------\n",
            "                     Previsto\n",
            "                Churn       Não-Churn\n",
            "     Churn        2784         827\n",
            "Real\n",
            "     Não-Churn    674         2921\n",
            "----------------------------------------\n",
            "Métricas\n",
            "----------------------------------------\n",
            "Acurácia: 0.791701\n",
            "Precisão: 0.805090\n",
            "Recall: 0.770978\n",
            "F1: 0.787664\n",
            "\n",
            "========================================\n",
            "Dados de Teste\n",
            "========================================\n",
            "Matriz de Confusão\n",
            "----------------------------------------\n",
            "                     Previsto\n",
            "                Churn       Não-Churn\n",
            "     Churn        1181         382\n",
            "Real\n",
            "     Não-Churn    336         1243\n",
            "----------------------------------------\n",
            "Métricas\n",
            "----------------------------------------\n",
            "Acurácia: 0.771483\n",
            "Precisão: 0.778510\n",
            "Recall: 0.755598\n",
            "F1: 0.766883\n"
          ]
        }
      ]
    },
    {
      "cell_type": "markdown",
      "source": [
        "# 4 - Utilizando o Random Forest"
      ],
      "metadata": {
        "id": "NKFAt3I6sHSf"
      }
    },
    {
      "cell_type": "markdown",
      "source": [
        "## 4.1 - Ajuste e Previsão"
      ],
      "metadata": {
        "id": "zFXwOHyPv5Hx"
      }
    },
    {
      "cell_type": "code",
      "source": [
        "from pyspark.ml.classification import RandomForestClassifier"
      ],
      "metadata": {
        "id": "HK_-8xLkqXLb"
      },
      "execution_count": 61,
      "outputs": []
    },
    {
      "cell_type": "code",
      "source": [
        "rfc = RandomForestClassifier(seed=SEED)"
      ],
      "metadata": {
        "id": "qvBTkSvFww4D"
      },
      "execution_count": 62,
      "outputs": []
    },
    {
      "cell_type": "code",
      "source": [
        "modelo_rfc = rfc.fit(treino)"
      ],
      "metadata": {
        "id": "VovqJgqvwx_T"
      },
      "execution_count": 63,
      "outputs": []
    },
    {
      "cell_type": "code",
      "source": [
        "previsoes_rfc_treino = modelo_rfc.transform(treino)"
      ],
      "metadata": {
        "id": "veEGZClkw6F8"
      },
      "execution_count": 64,
      "outputs": []
    },
    {
      "cell_type": "code",
      "source": [
        "previsoes_rfc_treino.show()"
      ],
      "metadata": {
        "colab": {
          "base_uri": "https://localhost:8080/"
        },
        "id": "ramC4UOyw_eN",
        "outputId": "946aa7e0-0e35-47ba-8bb4-8e533e0d34eb"
      },
      "execution_count": 65,
      "outputs": [
        {
          "output_type": "stream",
          "name": "stdout",
          "text": [
            "+--------------------+-----+--------------------+--------------------+----------+\n",
            "|            features|label|       rawPrediction|         probability|prediction|\n",
            "+--------------------+-----+--------------------+--------------------+----------+\n",
            "|(24,[0,1,2,3,4,5,...|    0|[15.0052773466704...|[0.75026386733352...|       0.0|\n",
            "|(24,[0,1,2,3,4,5,...|    0|[16.9295040273249...|[0.84647520136624...|       0.0|\n",
            "|(24,[0,1,2,3,4,5,...|    0|[9.13052909106814...|[0.45652645455340...|       1.0|\n",
            "|(24,[0,1,2,3,4,5,...|    0|[9.13052909106814...|[0.45652645455340...|       1.0|\n",
            "|(24,[0,1,2,3,4,5,...|    0|[8.59288938528764...|[0.42964446926438...|       1.0|\n",
            "|(24,[0,1,2,3,4,5,...|    1|[5.59647122885698...|[0.27982356144284...|       1.0|\n",
            "|(24,[0,1,2,3,4,5,...|    0|[9.33276328267787...|[0.46663816413389...|       1.0|\n",
            "|(24,[0,1,2,3,4,5,...|    1|[5.21616013157118...|[0.26080800657855...|       1.0|\n",
            "|(24,[0,1,2,3,4,5,...|    0|[5.45640255581361...|[0.27282012779068...|       1.0|\n",
            "|(24,[0,1,2,3,4,5,...|    0|[4.60442649894724...|[0.23022132494736...|       1.0|\n",
            "|(24,[0,1,2,3,4,5,...|    0|[5.67535692640751...|[0.28376784632037...|       1.0|\n",
            "|(24,[0,1,2,3,4,5,...|    0|[12.0200554644482...|[0.60100277322241...|       0.0|\n",
            "|(24,[0,1,2,3,4,5,...|    0|[4.78964359060310...|[0.23948217953015...|       1.0|\n",
            "|(24,[0,1,2,3,4,5,...|    0|[16.0034864403362...|[0.80017432201681...|       0.0|\n",
            "|(24,[0,1,2,3,4,5,...|    0|[9.33276328267787...|[0.46663816413389...|       1.0|\n",
            "|(24,[0,1,2,3,4,5,...|    1|[7.72923092350890...|[0.38646154617544...|       1.0|\n",
            "|(24,[0,1,2,3,4,5,...|    0|[15.9609332488468...|[0.79804666244234...|       0.0|\n",
            "|(24,[0,1,2,3,4,5,...|    0|[7.08160776437640...|[0.35408038821882...|       1.0|\n",
            "|(24,[0,1,2,3,4,5,...|    0|[18.2497256374866...|[0.91248628187433...|       0.0|\n",
            "|(24,[0,1,2,3,4,5,...|    0|[14.4759069267546...|[0.72379534633773...|       0.0|\n",
            "+--------------------+-----+--------------------+--------------------+----------+\n",
            "only showing top 20 rows\n",
            "\n"
          ]
        }
      ]
    },
    {
      "cell_type": "markdown",
      "source": [
        "## 4.2 - Métricas"
      ],
      "metadata": {
        "id": "NhJZUR7NyJ5z"
      }
    },
    {
      "cell_type": "code",
      "source": [
        "previsoes_rfc_teste = modelo_rfc.transform(teste)"
      ],
      "metadata": {
        "id": "wrMLlDZFxBYW"
      },
      "execution_count": 66,
      "outputs": []
    },
    {
      "cell_type": "code",
      "source": [
        "previsoes_rfc_teste.show()"
      ],
      "metadata": {
        "colab": {
          "base_uri": "https://localhost:8080/"
        },
        "id": "fqFZYOfrySbN",
        "outputId": "2dd9fffb-5daf-4d82-870a-d34fec4bdf3f"
      },
      "execution_count": 67,
      "outputs": [
        {
          "output_type": "stream",
          "name": "stdout",
          "text": [
            "+--------------------+-----+--------------------+--------------------+----------+\n",
            "|            features|label|       rawPrediction|         probability|prediction|\n",
            "+--------------------+-----+--------------------+--------------------+----------+\n",
            "|(24,[0,1,2,3,4,5,...|    0|[16.7433871675615...|[0.83716935837807...|       0.0|\n",
            "|(24,[0,1,2,3,4,5,...|    0|[7.27313214599648...|[0.36365660729982...|       1.0|\n",
            "|(24,[0,1,2,3,4,5,...|    1|[7.46885072161585...|[0.37344253608079...|       1.0|\n",
            "|(24,[0,1,2,3,4,5,...|    1|[9.33276328267787...|[0.46663816413389...|       1.0|\n",
            "|(24,[0,1,2,3,4,5,...|    0|[7.79829004739264...|[0.38991450236963...|       1.0|\n",
            "|(24,[0,1,2,3,4,5,...|    0|[7.13263407834549...|[0.35663170391727...|       1.0|\n",
            "|(24,[0,1,2,3,4,5,...|    0|[4.45872635511159...|[0.22293631775557...|       1.0|\n",
            "|(24,[0,1,2,3,4,5,...|    0|[7.84691519125130...|[0.39234575956256...|       1.0|\n",
            "|(24,[0,1,2,3,4,5,...|    0|[9.94796150783366...|[0.49739807539168...|       1.0|\n",
            "|(24,[0,1,2,3,4,5,...|    0|[13.9419392354793...|[0.69709696177396...|       0.0|\n",
            "|(24,[0,1,2,3,4,5,...|    1|[5.91309232317621...|[0.29565461615881...|       1.0|\n",
            "|(24,[0,1,2,3,4,5,...|    1|[4.00056870239560...|[0.20002843511978...|       1.0|\n",
            "|(24,[0,1,2,3,4,5,...|    0|[18.3120509476018...|[0.91560254738009...|       0.0|\n",
            "|(24,[0,1,2,3,4,8,...|    0|[11.9244461164393...|[0.59622230582196...|       0.0|\n",
            "|(24,[0,1,2,3,4,8,...|    0|[15.3485289130138...|[0.76742644565069...|       0.0|\n",
            "|(24,[0,1,2,3,4,8,...|    0|[16.5284444417352...|[0.82642222208676...|       0.0|\n",
            "|(24,[0,1,2,3,5,6,...|    0|[18.0005759997679...|[0.90002879998839...|       0.0|\n",
            "|(24,[0,1,2,3,5,6,...|    0|[12.7577462101532...|[0.63788731050766...|       0.0|\n",
            "|(24,[0,1,2,3,5,6,...|    0|[17.3802234084668...|[0.86901117042334...|       0.0|\n",
            "|(24,[0,1,2,3,5,6,...|    0|[17.2590921858649...|[0.86295460929324...|       0.0|\n",
            "+--------------------+-----+--------------------+--------------------+----------+\n",
            "only showing top 20 rows\n",
            "\n"
          ]
        }
      ]
    },
    {
      "cell_type": "code",
      "source": [
        "print('Random Forest Classifier')\n",
        "print(\"=\"*40)\n",
        "print(\"Dados de Treino\")\n",
        "print(\"=\"*40)\n",
        "print(\"Matriz de Confusão\")\n",
        "print(\"-\"*40)\n",
        "calcula_mostra_matriz_confusao(previsoes_rfc_treino, normalize=False)\n",
        "print(\"-\"*40)\n",
        "print(\"Métricas\")\n",
        "print(\"-\"*40)\n",
        "print(\"Acurácia: %f\" % evaluator.evaluate(previsoes_rfc_treino, {evaluator.metricName: \"accuracy\"}))\n",
        "print(\"Precisão: %f\" % evaluator.evaluate(previsoes_rfc_treino, {evaluator.metricName: \"precisionByLabel\", evaluator.metricLabel: 1}))\n",
        "print(\"Recall: %f\" % evaluator.evaluate(previsoes_rfc_treino, {evaluator.metricName: \"recallByLabel\", evaluator.metricLabel: 1}))\n",
        "print(\"F1: %f\" % evaluator.evaluate(previsoes_rfc_treino, {evaluator.metricName: \"fMeasureByLabel\", evaluator.metricLabel: 1}))\n",
        "print(\"\")\n",
        "print(\"=\"*40)\n",
        "print(\"Dados de Teste\")\n",
        "print(\"=\"*40)\n",
        "print(\"Matriz de Confusão\")\n",
        "print(\"-\"*40)\n",
        "calcula_mostra_matriz_confusao(previsoes_rfc_teste, normalize=False)\n",
        "print(\"-\"*40)\n",
        "print(\"Métricas\")\n",
        "print(\"-\"*40)\n",
        "print(\"Acurácia: %f\" % evaluator.evaluate(previsoes_rfc_teste, {evaluator.metricName: \"accuracy\"}))\n",
        "print(\"Precisão: %f\" % evaluator.evaluate(previsoes_rfc_teste, {evaluator.metricName: \"precisionByLabel\", evaluator.metricLabel: 1}))\n",
        "print(\"Recall: %f\" % evaluator.evaluate(previsoes_rfc_teste, {evaluator.metricName: \"recallByLabel\", evaluator.metricLabel: 1}))\n",
        "print(\"F1: %f\" % evaluator.evaluate(previsoes_rfc_teste, {evaluator.metricName: \"fMeasureByLabel\", evaluator.metricLabel: 1}))"
      ],
      "metadata": {
        "colab": {
          "base_uri": "https://localhost:8080/"
        },
        "id": "NBYAPeDJybDO",
        "outputId": "f32bbf04-1fb8-4d05-8d7b-141d006214d7"
      },
      "execution_count": 68,
      "outputs": [
        {
          "output_type": "stream",
          "name": "stdout",
          "text": [
            "Random Forest Classifier\n",
            "========================================\n",
            "Dados de Treino\n",
            "========================================\n",
            "Matriz de Confusão\n",
            "----------------------------------------\n",
            "                     Previsto\n",
            "                Churn       Não-Churn\n",
            "     Churn        2950         661\n",
            "Real\n",
            "     Não-Churn    884         2711\n",
            "----------------------------------------\n",
            "Métricas\n",
            "----------------------------------------\n",
            "Acurácia: 0.785595\n",
            "Precisão: 0.769431\n",
            "Recall: 0.816948\n",
            "F1: 0.792478\n",
            "\n",
            "========================================\n",
            "Dados de Teste\n",
            "========================================\n",
            "Matriz de Confusão\n",
            "----------------------------------------\n",
            "                     Previsto\n",
            "                Churn       Não-Churn\n",
            "     Churn        1257         306\n",
            "Real\n",
            "     Não-Churn    416         1163\n",
            "----------------------------------------\n",
            "Métricas\n",
            "----------------------------------------\n",
            "Acurácia: 0.770210\n",
            "Precisão: 0.751345\n",
            "Recall: 0.804223\n",
            "F1: 0.776885\n"
          ]
        }
      ]
    },
    {
      "cell_type": "markdown",
      "source": [
        "# 5 - Cross Validation (CV)"
      ],
      "metadata": {
        "id": "nQJZQ3oa06JK"
      }
    },
    {
      "cell_type": "markdown",
      "source": [
        "## 5.1 - Ajustando Hiperparâmetros e testando para DecisionTreeClassifier"
      ],
      "metadata": {
        "id": "8q2T3u0B0xDO"
      }
    },
    {
      "cell_type": "code",
      "source": [
        "from pyspark.ml.tuning import CrossValidator, ParamGridBuilder"
      ],
      "metadata": {
        "id": "67zkoGMiyneJ"
      },
      "execution_count": 69,
      "outputs": []
    },
    {
      "cell_type": "code",
      "source": [
        "dtc = DecisionTreeClassifier(seed=SEED)"
      ],
      "metadata": {
        "id": "6H14hvQ2St5O"
      },
      "execution_count": 70,
      "outputs": []
    },
    {
      "cell_type": "code",
      "source": [
        "grid = ParamGridBuilder()\\\n",
        "        .addGrid(dtc.maxDepth, [2, 5, 10])\\\n",
        "        .addGrid(dtc.maxBins, [10, 32, 45])\\\n",
        "        .build()"
      ],
      "metadata": {
        "id": "Z_71zUalSzXv"
      },
      "execution_count": 71,
      "outputs": []
    },
    {
      "cell_type": "code",
      "source": [
        "evaluator = MulticlassClassificationEvaluator()"
      ],
      "metadata": {
        "id": "z0yD6PtkTJmT"
      },
      "execution_count": 72,
      "outputs": []
    },
    {
      "cell_type": "code",
      "source": [
        "dtc_cv = CrossValidator(\n",
        "    estimator=dtc,\n",
        "    estimatorParamMaps=grid,\n",
        "    evaluator=evaluator,\n",
        "    numFolds=3,\n",
        "    seed=SEED\n",
        ")"
      ],
      "metadata": {
        "id": "U7TlVeBRTPM7"
      },
      "execution_count": 73,
      "outputs": []
    },
    {
      "cell_type": "code",
      "source": [
        "modelo_dtc_cv = dtc_cv.fit(treino)"
      ],
      "metadata": {
        "id": "tFgCfXYQTegu"
      },
      "execution_count": 74,
      "outputs": []
    },
    {
      "cell_type": "code",
      "source": [
        "previsoes_dtc_cv_teste = modelo_dtc_cv.transform(teste)"
      ],
      "metadata": {
        "id": "uEcyxSyUTkjP"
      },
      "execution_count": 75,
      "outputs": []
    },
    {
      "cell_type": "code",
      "source": [
        "print('Decision Tree Classifier - Tuning')\n",
        "print(\"=\"*40)\n",
        "print(\"Dados de Teste\")\n",
        "print(\"=\"*40)\n",
        "print(\"Matriz de Confusão\")\n",
        "print(\"-\"*40)\n",
        "calcula_mostra_matriz_confusao(previsoes_dtc_cv_teste, normalize=False)\n",
        "print(\"-\"*40)\n",
        "print(\"Métricas\")\n",
        "print(\"-\"*40)\n",
        "print(\"Acurácia: %f\" % evaluator.evaluate(previsoes_dtc_cv_teste, {evaluator.metricName: \"accuracy\"}))\n",
        "print(\"Precisão: %f\" % evaluator.evaluate(previsoes_dtc_cv_teste, {evaluator.metricName: \"precisionByLabel\", evaluator.metricLabel: 1}))\n",
        "print(\"Recall: %f\" % evaluator.evaluate(previsoes_dtc_cv_teste, {evaluator.metricName: \"recallByLabel\", evaluator.metricLabel: 1}))\n",
        "print(\"F1: %f\" % evaluator.evaluate(previsoes_dtc_cv_teste, {evaluator.metricName: \"fMeasureByLabel\", evaluator.metricLabel: 1}))"
      ],
      "metadata": {
        "colab": {
          "base_uri": "https://localhost:8080/"
        },
        "id": "qv94d5ewU3Jn",
        "outputId": "e1152a49-0bbd-4b98-db03-e6d35abe8565"
      },
      "execution_count": 76,
      "outputs": [
        {
          "output_type": "stream",
          "name": "stdout",
          "text": [
            "Decision Tree Classifier - Tuning\n",
            "========================================\n",
            "Dados de Teste\n",
            "========================================\n",
            "Matriz de Confusão\n",
            "----------------------------------------\n",
            "                     Previsto\n",
            "                Churn       Não-Churn\n",
            "     Churn        1327         236\n",
            "Real\n",
            "     Não-Churn    423         1156\n",
            "----------------------------------------\n",
            "Métricas\n",
            "----------------------------------------\n",
            "Acurácia: 0.790261\n",
            "Precisão: 0.758286\n",
            "Recall: 0.849008\n",
            "F1: 0.801087\n"
          ]
        }
      ]
    },
    {
      "cell_type": "markdown",
      "source": [
        "## 5.2 - Ajustando Hiperparâmetros e testando para RandomForest"
      ],
      "metadata": {
        "id": "z8r4NqiLYXJO"
      }
    },
    {
      "cell_type": "code",
      "source": [
        "rfc = RandomForestClassifier(seed=SEED)"
      ],
      "metadata": {
        "id": "jLBdPtkKU5Z_"
      },
      "execution_count": 77,
      "outputs": []
    },
    {
      "cell_type": "code",
      "source": [
        "grid = ParamGridBuilder()\\\n",
        "        .addGrid(rfc.maxDepth, [2,5,10])\\\n",
        "        .addGrid(rfc.maxBins, [10,32,45])\\\n",
        "        .addGrid(rfc.numTrees, [10,20,50])\\\n",
        "        .build()"
      ],
      "metadata": {
        "id": "NdvCw70aa-zN"
      },
      "execution_count": 78,
      "outputs": []
    },
    {
      "cell_type": "code",
      "source": [
        "evaluator = MulticlassClassificationEvaluator()"
      ],
      "metadata": {
        "id": "PEhPD8MtbdZy"
      },
      "execution_count": 79,
      "outputs": []
    },
    {
      "cell_type": "code",
      "source": [
        "rfc_cv = CrossValidator(\n",
        "    estimator=rfc,\n",
        "    estimatorParamMaps=grid,\n",
        "    evaluator=evaluator,\n",
        "    numFolds=3,\n",
        "    seed=SEED\n",
        ")"
      ],
      "metadata": {
        "id": "zUqCaDUabjqT"
      },
      "execution_count": 80,
      "outputs": []
    },
    {
      "cell_type": "code",
      "source": [
        "modelo_rfc_cv = rfc_cv.fit(treino)"
      ],
      "metadata": {
        "id": "zJavR_Igbyc9"
      },
      "execution_count": 81,
      "outputs": []
    },
    {
      "cell_type": "code",
      "source": [
        "previsoes_rfc_cv_teste = modelo_rfc_cv.transform(teste)"
      ],
      "metadata": {
        "id": "pwveVRuWdkNG"
      },
      "execution_count": 83,
      "outputs": []
    },
    {
      "cell_type": "code",
      "source": [
        "print('Random Forest Classifier - Tuning')\n",
        "print(\"=\"*40)\n",
        "print(\"Dados de Teste\")\n",
        "print(\"=\"*40)\n",
        "print(\"Matriz de Confusão\")\n",
        "print(\"-\"*40)\n",
        "calcula_mostra_matriz_confusao(previsoes_rfc_cv_teste, normalize=False)\n",
        "print(\"-\"*40)\n",
        "print(\"Métricas\")\n",
        "print(\"-\"*40)\n",
        "print(\"Acurácia: %f\" % evaluator.evaluate(previsoes_rfc_cv_teste, {evaluator.metricName: \"accuracy\"}))\n",
        "print(\"Precisão: %f\" % evaluator.evaluate(previsoes_rfc_cv_teste, {evaluator.metricName: \"precisionByLabel\", evaluator.metricLabel: 1}))\n",
        "print(\"Recall: %f\" % evaluator.evaluate(previsoes_rfc_cv_teste, {evaluator.metricName: \"recallByLabel\", evaluator.metricLabel: 1}))\n",
        "print(\"F1: %f\" % evaluator.evaluate(previsoes_rfc_cv_teste, {evaluator.metricName: \"fMeasureByLabel\", evaluator.metricLabel: 1}))"
      ],
      "metadata": {
        "colab": {
          "base_uri": "https://localhost:8080/"
        },
        "id": "YsXo1ZXpb4iF",
        "outputId": "283f25fa-df81-4497-d744-2b1443e739be"
      },
      "execution_count": 84,
      "outputs": [
        {
          "output_type": "stream",
          "name": "stdout",
          "text": [
            "Random Forest Classifier - Tuning\n",
            "========================================\n",
            "Dados de Teste\n",
            "========================================\n",
            "Matriz de Confusão\n",
            "----------------------------------------\n",
            "                     Previsto\n",
            "                Churn       Não-Churn\n",
            "     Churn        1322         241\n",
            "Real\n",
            "     Não-Churn    347         1232\n",
            "----------------------------------------\n",
            "Métricas\n",
            "----------------------------------------\n",
            "Acurácia: 0.812858\n",
            "Precisão: 0.792091\n",
            "Recall: 0.845809\n",
            "F1: 0.818069\n"
          ]
        }
      ]
    },
    {
      "cell_type": "markdown",
      "source": [
        "Com base nas métricas obtídas e comparadas com as anteriores, vamos seguir utilizando o modelo de RandomForest Otimizado. Para isso, a seguir iremos verificar quais foram os melhores hiperparêmetros encontrados pelo modelo e, assim, treinar o modelo final."
      ],
      "metadata": {
        "id": "7Kx8-jzUfESP"
      }
    },
    {
      "cell_type": "markdown",
      "source": [
        "## 5.3 - Pegando e Treinando o Melhor Modelo"
      ],
      "metadata": {
        "id": "GcBXtOJ6e7zj"
      }
    },
    {
      "cell_type": "code",
      "source": [
        "melhor_modelo_rfc_cv = modelo_rfc_cv.bestModel"
      ],
      "metadata": {
        "id": "7vyQuHxLdekJ"
      },
      "execution_count": 86,
      "outputs": []
    },
    {
      "cell_type": "code",
      "source": [
        "print(melhor_modelo_rfc_cv.getMaxDepth())\n",
        "print(melhor_modelo_rfc_cv.getMaxBins())\n",
        "print(melhor_modelo_rfc_cv.getNumTrees)"
      ],
      "metadata": {
        "colab": {
          "base_uri": "https://localhost:8080/"
        },
        "id": "sXgAYcqVftJb",
        "outputId": "7e156f37-321e-4620-8ea0-53059195ae1f"
      },
      "execution_count": 87,
      "outputs": [
        {
          "output_type": "stream",
          "name": "stdout",
          "text": [
            "10\n",
            "45\n",
            "20\n"
          ]
        }
      ]
    },
    {
      "cell_type": "code",
      "source": [
        "rfc_tuning = RandomForestClassifier(maxDepth=10, maxBins=45, numTrees=20, seed=SEED)"
      ],
      "metadata": {
        "id": "rEgydRMAf-l2"
      },
      "execution_count": 88,
      "outputs": []
    },
    {
      "cell_type": "code",
      "source": [
        "modelo_rfc_tuning = rfc_tuning.fit(dataset_prep)"
      ],
      "metadata": {
        "id": "ua1rAVWEgNUf"
      },
      "execution_count": 89,
      "outputs": []
    },
    {
      "cell_type": "code",
      "source": [
        "novo_cliente = [{\n",
        "    'Mais65anos': 0,\n",
        "    'MesesDeContrato': 1,\n",
        "    'MesesCobrados': 45.30540797610398,\n",
        "    'Conjuge': 0,\n",
        "    'Dependentes': 0,\n",
        "    'TelefoneFixo': 0,\n",
        "    'MaisDeUmaLinhaTelefonica': 0,\n",
        "    'SegurancaOnline': 0,\n",
        "    'BackupOnline': 0,\n",
        "    'SeguroDispositivo': 0,\n",
        "    'SuporteTecnico': 0,\n",
        "    'TVaCabo': 1,\n",
        "    'StreamingFilmes': 1,\n",
        "    'ContaCorreio': 1,\n",
        "    'Internet_DSL': 1,\n",
        "    'Internet_FibraOptica': 0,\n",
        "    'Internet_Nao': 0,\n",
        "    'TipoContrato_Mensalmente': 1,\n",
        "    'TipoContrato_UmAno': 0,\n",
        "    'TipoContrato_DoisAnos': 0,\n",
        "    'MetodoPagamento_DebitoEmConta': 0,\n",
        "    'MetodoPagamento_CartaoCredito': 0,\n",
        "    'MetodoPagamento_BoletoEletronico': 1,\n",
        "    'MetodoPagamento_Boleto': 0\n",
        "}]"
      ],
      "metadata": {
        "id": "DHBTQ1nJgWkp"
      },
      "execution_count": 90,
      "outputs": []
    },
    {
      "cell_type": "code",
      "source": [
        "novo_cliente = spark.createDataFrame(novo_cliente)\n",
        "novo_cliente.show()"
      ],
      "metadata": {
        "colab": {
          "base_uri": "https://localhost:8080/"
        },
        "id": "8Rtthi4WiuMd",
        "outputId": "4c3baa5e-c48e-4b3d-f970-7765068de21d"
      },
      "execution_count": 91,
      "outputs": [
        {
          "output_type": "stream",
          "name": "stdout",
          "text": [
            "+------------+-------+------------+-----------+------------+--------------------+------------+----------+------------------------+-----------------+---------------+----------------------+--------------------------------+-----------------------------+-----------------------------+---------------+-----------------+---------------+--------------+-------+------------+---------------------+------------------------+------------------+\n",
            "|BackupOnline|Conjuge|ContaCorreio|Dependentes|Internet_DSL|Internet_FibraOptica|Internet_Nao|Mais65anos|MaisDeUmaLinhaTelefonica|    MesesCobrados|MesesDeContrato|MetodoPagamento_Boleto|MetodoPagamento_BoletoEletronico|MetodoPagamento_CartaoCredito|MetodoPagamento_DebitoEmConta|SegurancaOnline|SeguroDispositivo|StreamingFilmes|SuporteTecnico|TVaCabo|TelefoneFixo|TipoContrato_DoisAnos|TipoContrato_Mensalmente|TipoContrato_UmAno|\n",
            "+------------+-------+------------+-----------+------------+--------------------+------------+----------+------------------------+-----------------+---------------+----------------------+--------------------------------+-----------------------------+-----------------------------+---------------+-----------------+---------------+--------------+-------+------------+---------------------+------------------------+------------------+\n",
            "|           0|      0|           1|          0|           1|                   0|           0|         0|                       0|45.30540797610398|              1|                     0|                               1|                            0|                            0|              0|                0|              1|             0|      1|           0|                    0|                       1|                 0|\n",
            "+------------+-------+------------+-----------+------------+--------------------+------------+----------+------------------------+-----------------+---------------+----------------------+--------------------------------+-----------------------------+-----------------------------+---------------+-----------------+---------------+--------------+-------+------------+---------------------+------------------------+------------------+\n",
            "\n"
          ]
        }
      ]
    },
    {
      "cell_type": "code",
      "source": [
        "assembler = VectorAssembler(inputCols = X, outputCol='features')"
      ],
      "metadata": {
        "id": "fkCoHkMZjZyd"
      },
      "execution_count": 92,
      "outputs": []
    },
    {
      "cell_type": "code",
      "source": [
        "novo_cliente_prep = assembler.transform(novo_cliente).select('features')"
      ],
      "metadata": {
        "id": "Y9nbBUKekZMI"
      },
      "execution_count": 93,
      "outputs": []
    },
    {
      "cell_type": "code",
      "source": [
        "novo_cliente_prep.show(truncate=False)"
      ],
      "metadata": {
        "colab": {
          "base_uri": "https://localhost:8080/"
        },
        "id": "KK9SdiLlknxa",
        "outputId": "f50b7422-a30a-4eaa-9d66-9fb203c36f12"
      },
      "execution_count": 94,
      "outputs": [
        {
          "output_type": "stream",
          "name": "stdout",
          "text": [
            "+----------------------------------------------------------------------------+\n",
            "|features                                                                    |\n",
            "+----------------------------------------------------------------------------+\n",
            "|(24,[1,2,11,12,13,14,17,22],[1.0,45.30540797610398,1.0,1.0,1.0,1.0,1.0,1.0])|\n",
            "+----------------------------------------------------------------------------+\n",
            "\n"
          ]
        }
      ]
    },
    {
      "cell_type": "code",
      "source": [
        "modelo_rfc_tuning.transform(novo_cliente_prep).show()"
      ],
      "metadata": {
        "colab": {
          "base_uri": "https://localhost:8080/"
        },
        "id": "soggLDO2ksw7",
        "outputId": "e42ccfb3-b010-4ecf-c9d9-b350dfa50d5b"
      },
      "execution_count": 95,
      "outputs": [
        {
          "output_type": "stream",
          "name": "stdout",
          "text": [
            "+--------------------+--------------------+--------------------+----------+\n",
            "|            features|       rawPrediction|         probability|prediction|\n",
            "+--------------------+--------------------+--------------------+----------+\n",
            "|(24,[1,2,11,12,13...|[2.16984156904747...|[0.10849207845237...|       1.0|\n",
            "+--------------------+--------------------+--------------------+----------+\n",
            "\n"
          ]
        }
      ]
    },
    {
      "cell_type": "markdown",
      "source": [
        "Com base no resultado do nosso modelo, esse cliente cancelará a assinatura."
      ],
      "metadata": {
        "id": "RZSu5AMlm5lV"
      }
    },
    {
      "cell_type": "markdown",
      "source": [
        "# 6 - Aplicando o CrossValidator no algorítimo de Logistic Regression"
      ],
      "metadata": {
        "id": "LMvyXDQgnDF6"
      }
    },
    {
      "cell_type": "code",
      "source": [
        "lr = LogisticRegression()"
      ],
      "metadata": {
        "id": "xnhYHcitk_qX"
      },
      "execution_count": 96,
      "outputs": []
    },
    {
      "cell_type": "code",
      "source": [
        "grid = ParamGridBuilder() \\\n",
        "    .addGrid(lr.regParam, [0.1, 0.01]) \\\n",
        "    .addGrid(lr.elasticNetParam, [0.0, 1.0])\\\n",
        "    .build()"
      ],
      "metadata": {
        "id": "fzoEkBhGnS2Y"
      },
      "execution_count": 97,
      "outputs": []
    },
    {
      "cell_type": "code",
      "source": [
        "evaluator = MulticlassClassificationEvaluator()"
      ],
      "metadata": {
        "id": "CqvUIAS7nUtp"
      },
      "execution_count": 98,
      "outputs": []
    },
    {
      "cell_type": "code",
      "source": [
        "lr_cv = CrossValidator(\n",
        "    estimator=lr,\n",
        "    estimatorParamMaps=grid,\n",
        "    evaluator=evaluator,\n",
        "    numFolds=3,\n",
        "    seed=SEED\n",
        ")"
      ],
      "metadata": {
        "id": "EprVw-hKnb0D"
      },
      "execution_count": 99,
      "outputs": []
    },
    {
      "cell_type": "code",
      "source": [
        "modelo_lr_cv = lr_cv.fit(treino)"
      ],
      "metadata": {
        "id": "ys3C97qPne4z"
      },
      "execution_count": 101,
      "outputs": []
    },
    {
      "cell_type": "code",
      "source": [
        "previsoes_lr_cv_teste = modelo_lr_cv.transform(teste)"
      ],
      "metadata": {
        "id": "nsUHJacznoB9"
      },
      "execution_count": 102,
      "outputs": []
    },
    {
      "cell_type": "code",
      "source": [
        "print('Logistic Regression - Tuning')\n",
        "print(\"=\"*40)\n",
        "print(\"Dados de Teste\")\n",
        "print(\"=\"*40)\n",
        "print(\"Matriz de Confusão\")\n",
        "print(\"-\"*40)\n",
        "calcula_mostra_matriz_confusao(previsoes_lr_cv_teste, normalize=False)\n",
        "print(\"-\"*40)\n",
        "print(\"Métricas\")\n",
        "print(\"-\"*40)\n",
        "print(\"Acurácia: %f\" % evaluator.evaluate(previsoes_lr_cv_teste, {evaluator.metricName: \"accuracy\"}))\n",
        "print(\"Precisão: %f\" % evaluator.evaluate(previsoes_lr_cv_teste, {evaluator.metricName: \"precisionByLabel\", evaluator.metricLabel: 1}))\n",
        "print(\"Recall: %f\" % evaluator.evaluate(previsoes_lr_cv_teste, {evaluator.metricName: \"recallByLabel\", evaluator.metricLabel: 1}))\n",
        "print(\"F1: %f\" % evaluator.evaluate(previsoes_lr_cv_teste, {evaluator.metricName: \"fMeasureByLabel\", evaluator.metricLabel: 1}))"
      ],
      "metadata": {
        "colab": {
          "base_uri": "https://localhost:8080/"
        },
        "id": "r6Y5tw81oRXb",
        "outputId": "24a40b55-2ffb-4a8d-a5d8-a48f753780e7"
      },
      "execution_count": 104,
      "outputs": [
        {
          "output_type": "stream",
          "name": "stdout",
          "text": [
            "Logistic Regression - Tuning\n",
            "========================================\n",
            "Dados de Teste\n",
            "========================================\n",
            "Matriz de Confusão\n",
            "----------------------------------------\n",
            "                     Previsto\n",
            "                Churn       Não-Churn\n",
            "     Churn        1271         292\n",
            "Real\n",
            "     Não-Churn    408         1171\n",
            "----------------------------------------\n",
            "Métricas\n",
            "----------------------------------------\n",
            "Acurácia: 0.777212\n",
            "Precisão: 0.756998\n",
            "Recall: 0.813180\n",
            "F1: 0.784084\n"
          ]
        }
      ]
    },
    {
      "cell_type": "code",
      "source": [],
      "metadata": {
        "id": "iQGpPIbho1zE"
      },
      "execution_count": null,
      "outputs": []
    }
  ]
}